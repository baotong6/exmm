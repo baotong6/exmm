{
 "cells": [
  {
   "cell_type": "code",
   "execution_count": 23,
   "metadata": {},
   "outputs": [],
   "source": [
    "import numpy as np\n",
    "from astropy.io import fits\n",
    "import matplotlib.pyplot as plt\n",
    "import sys,os\n",
    "import math\n",
    "from tkinter import _flatten\n",
    "from astropy.wcs import WCS\n",
    "import warnings\n",
    "from scipy import stats\n",
    "import pandas as pd\n",
    "from astropy.coordinates import SkyCoord\n",
    "import astropy.units as u\n",
    "import warnings\n",
    "warnings.filterwarnings(\"ignore\")"
   ]
  },
  {
   "cell_type": "code",
   "execution_count": 4,
   "metadata": {},
   "outputs": [],
   "source": [
    "def equatorial_to_galactic(ra, dec):\n",
    "    # Create a SkyCoord object with equatorial coordinates\n",
    "    coord = SkyCoord(ra=ra * u.deg, dec=dec * u.deg, frame='icrs')\n",
    "    galactic_coord = coord.galactic\n",
    "    \n",
    "    # Return the galactic coordinates (l, b)\n",
    "    return galactic_coord.l.deg, galactic_coord.b.deg\n",
    "def galactic_to_equatorial(l, b):\n",
    "    # Create a SkyCoord object with galactic coordinates\n",
    "    coord = SkyCoord(l=l * u.deg, b=b * u.deg, frame='galactic')\n",
    "    equatorial_coord = coord.icrs  # Convert to equatorial coordinates\n",
    "\n",
    "    # Return the equatorial coordinates (ra, dec)\n",
    "    return equatorial_coord.ra.deg, equatorial_coord.dec.deg"
   ]
  },
  {
   "cell_type": "code",
   "execution_count": 11,
   "metadata": {},
   "outputs": [
    {
     "name": "stdout",
     "output_type": "stream",
     "text": [
      "352.87696708987613 -0.1263691515439201\n"
     ]
    }
   ],
   "source": [
    "(l,b)=equatorial_to_galactic(262.0127794,\t-35.01083265)\n",
    "print(l,b)"
   ]
  },
  {
   "cell_type": "code",
   "execution_count": null,
   "metadata": {},
   "outputs": [],
   "source": [
    "(ra,dec)=galactic_to_equatorial(354.7018 ,0.4782)\n",
    "print(ra,dec)"
   ]
  },
  {
   "cell_type": "code",
   "execution_count": null,
   "metadata": {},
   "outputs": [],
   "source": [
    "a1=SkyCoord(ra=262.6214637*u.degree,dec=-33.15571915*u.degree)\n",
    "a2=SkyCoord(ra=262.74530330343265*u.degree,dec= -35.1365088336026*u.degree)\n",
    "a1.separation(a2).arcsec"
   ]
  },
  {
   "cell_type": "code",
   "execution_count": 20,
   "metadata": {},
   "outputs": [],
   "source": [
    "a=pd.read_excel('/Users/baotong/data_GalDisc/data/result_GL/pn_1000_300_tot.xlsx')\n",
    "b=pd.read_excel('/Users/baotong/data_GalDisc/data/result_GL/pn_3000_1000.xlsx')\n",
    "a_sorted = a.sort_values(by='ra')\n",
    "b_sorted = b.sort_values(by='ra')"
   ]
  },
  {
   "cell_type": "markdown",
   "metadata": {},
   "source": []
  },
  {
   "cell_type": "code",
   "execution_count": 21,
   "metadata": {},
   "outputs": [],
   "source": [
    "c=np.array(a_sorted['srcfile'])\n",
    "d=np.array(b_sorted['srcfile'])\n",
    "for i in range(1,len(c)):\n",
    "    if c[i]==d[i]:\n",
    "        continue\n",
    "    else:\n",
    "        print(i)\n",
    "        break"
   ]
  },
  {
   "cell_type": "code",
   "execution_count": null,
   "metadata": {},
   "outputs": [],
   "source": []
  }
 ],
 "metadata": {
  "kernelspec": {
   "display_name": "base",
   "language": "python",
   "name": "python3"
  },
  "language_info": {
   "codemirror_mode": {
    "name": "ipython",
    "version": 3
   },
   "file_extension": ".py",
   "mimetype": "text/x-python",
   "name": "python",
   "nbconvert_exporter": "python",
   "pygments_lexer": "ipython3",
   "version": "3.8.5"
  }
 },
 "nbformat": 4,
 "nbformat_minor": 2
}
