{
 "cells": [
  {
   "cell_type": "code",
   "execution_count": 1,
   "metadata": {},
   "outputs": [],
   "source": [
    "import numpy as np\n",
    "import matplotlib.pyplot as plt\n",
    "from astropy.coordinates import SkyCoord\n",
    "from astropy.io import fits\n",
    "from astropy.table import Table, vstack\n",
    "from astropy.wcs import WCS\n",
    "from astropy import units as u\n",
    "from astropy.coordinates import match_coordinates_sky\n",
    "import os,sys\n",
    "import pandas as pd\n",
    "import glob"
   ]
  },
  {
   "cell_type": "code",
   "execution_count": 4,
   "metadata": {},
   "outputs": [],
   "source": [
    "path='/Users/baotong/data_GalDisc/data/xmmdr14s/'\n",
    "xmmdr14=fits.open(path+'xmmstack_v3.2_4xmmdr14s.fits.gz')\n",
    "xmmdr14_obs=fits.open(path+'xmmstack_v3.2_4xmmdr14s_obslist.fits.gz')\n",
    "allobsnow=np.loadtxt(path+'allobs.txt',dtype='str')"
   ]
  },
  {
   "cell_type": "code",
   "execution_count": null,
   "metadata": {},
   "outputs": [],
   "source": []
  },
  {
   "cell_type": "code",
   "execution_count": 5,
   "metadata": {},
   "outputs": [
    {
     "name": "stdout",
     "output_type": "stream",
     "text": [
      "562\n"
     ]
    }
   ],
   "source": [
    "obsdr14=xmmdr14_obs[1].data['OBS_ID']\n",
    "obsused=np.intersect1d(obsdr14,allobsnow)\n",
    "print(len(obsused))"
   ]
  },
  {
   "cell_type": "code",
   "execution_count": 6,
   "metadata": {},
   "outputs": [
    {
     "name": "stderr",
     "output_type": "stream",
     "text": [
      "WARNING: VerifyWarning: Invalid keyword for column 1: Column null option (TNULLn) is invalid for binary table columns of type '22A' (got -1).  The invalid value will be ignored for the purpose of formatting the data in this column. [astropy.io.fits.column]\n",
      "WARNING: VerifyWarning: Invalid keyword for column 3: Column null option (TNULLn) is invalid for binary table columns of type '10A' (got -2147483648).  The invalid value will be ignored for the purpose of formatting the data in this column. [astropy.io.fits.column]\n",
      "WARNING: VerifyWarning: Invalid keyword for column 236: Column null option (TNULLn) is invalid for binary table columns of type 'E' (got -32768).  The invalid value will be ignored for the purpose of formatting the data in this column. [astropy.io.fits.column]\n",
      "WARNING: VerifyWarning: Invalid keyword for column 303: Column null option (TNULLn) is invalid for binary table columns of type 'D' (got -32768).  The invalid value will be ignored for the purpose of formatting the data in this column. [astropy.io.fits.column]\n"
     ]
    },
    {
     "name": "stdout",
     "output_type": "stream",
     "text": [
      "427524\n"
     ]
    }
   ],
   "source": [
    "srclist=xmmdr14[1].data\n",
    "print(len(np.unique(srclist['SRCID'])))"
   ]
  },
  {
   "cell_type": "markdown",
   "metadata": {},
   "source": []
  },
  {
   "cell_type": "code",
   "execution_count": 13,
   "metadata": {},
   "outputs": [
    {
     "name": "stdout",
     "output_type": "stream",
     "text": [
      "[ 1  1  1 ... 74 75 77]\n"
     ]
    }
   ],
   "source": [
    "nobs=srclist['N_CONTRIB']\n",
    "nobs=nobs[np.where(nobs>0)]\n",
    "print(np.sort(nobs))"
   ]
  },
  {
   "cell_type": "code",
   "execution_count": 23,
   "metadata": {},
   "outputs": [
    {
     "name": "stdout",
     "output_type": "stream",
     "text": [
      "[3000011010100001 3000011010100001 3000011010100001 ... 3093220090112761\n",
      " 3093220090114593 3093220090114593]\n"
     ]
    }
   ],
   "source": [
    "print(np.sort(srclist['SRCID']))"
   ]
  },
  {
   "cell_type": "code",
   "execution_count": 25,
   "metadata": {},
   "outputs": [],
   "source": [
    "path='/Users/baotong/data_GalDisc/data/'\n",
    "galdiscdr14=fits.open(path+'GalDisc_4xmmdr14s.fits')"
   ]
  },
  {
   "cell_type": "code",
   "execution_count": 70,
   "metadata": {},
   "outputs": [],
   "source": [
    "srclistgal=galdiscdr14[1].data\n",
    "stackflag=np.array(srclistgal['STACK_FLAG'])\n",
    "N_OBS=np.array(srclistgal['N_OBS'])\n",
    "EP_DET_ML=np.array(srclistgal['EP_DET_ML'])\n",
    "EXTENT_ML=np.array(srclistgal['EXTENT_ML'])\n",
    "EXTENT=np.array(srclistgal['EXTENT'])\n",
    "srclistgal_clean=srclistgal[np.where((N_OBS>=1)&(stackflag<=1)&(EP_DET_ML>6)&(EXTENT_ML<0)&(EXTENT==0))]"
   ]
  },
  {
   "cell_type": "code",
   "execution_count": 76,
   "metadata": {},
   "outputs": [
    {
     "name": "stdout",
     "output_type": "stream",
     "text": [
      "(array([     0,      8,     15, ..., 122731, 122734, 122737]),)\n"
     ]
    }
   ],
   "source": [
    "print(np.where(N_OBS>0))"
   ]
  },
  {
   "cell_type": "code",
   "execution_count": null,
   "metadata": {},
   "outputs": [],
   "source": []
  },
  {
   "cell_type": "markdown",
   "metadata": {},
   "source": []
  },
  {
   "cell_type": "code",
   "execution_count": 72,
   "metadata": {},
   "outputs": [
    {
     "name": "stdout",
     "output_type": "stream",
     "text": [
      "122740 26542\n",
      "12986 12986\n"
     ]
    }
   ],
   "source": [
    "print(len(srclistgal),len(np.unique(srclistgal['SRCID'])))\n",
    "print(len(srclistgal_clean),len(np.unique(srclistgal_clean['SRCID'])))\n",
    "unique_elements, indices = np.unique(srclistgal['SRCID'], return_index=True)\n",
    "sorted_indices = np.sort(indices)\n"
   ]
  },
  {
   "cell_type": "code",
   "execution_count": 146,
   "metadata": {},
   "outputs": [],
   "source": [
    "from astropy.io import fits\n",
    "import numpy as np\n",
    "\n",
    "def filter_and_save_indices(fits_file, selected_indices_file, unselected_indices_file):\n",
    "    with fits.open(fits_file) as hdul:\n",
    "        data = hdul[1].data\n",
    "        header = hdul[1].header\n",
    "\n",
    "        # Initialize lists to hold indices for selected and unselected real sources\n",
    "        selected_indices = []\n",
    "        unselected_indices = []\n",
    "\n",
    "        # Temporary list to collect indices for the current source (real + associated)\n",
    "        current_group_indices = []\n",
    "        \n",
    "        # Iterate over each row in the data\n",
    "        for i, row in enumerate(data):\n",
    "            print(i)  # For tracking progress\n",
    "            if row['N_OBS'] > 0:  # Real source detected\n",
    "                if current_group_indices:  # If there is already a group, process it\n",
    "                    # Check if the last source was selected\n",
    "                    real_source = data[current_group_indices[0]]\n",
    "                    if (real_source['STACK_FLAG'] <= 1 and \n",
    "                        real_source['EP_DET_ML'] >= 6 and \n",
    "                        real_source['EXTENT_ML'] <= 0):\n",
    "                        selected_indices.extend(current_group_indices)\n",
    "                    else:\n",
    "                        unselected_indices.extend(current_group_indices)\n",
    "                \n",
    "                # Start a new group with the current real source\n",
    "                current_group_indices = [i]\n",
    "            else:\n",
    "                # Add observational index to the current group\n",
    "                current_group_indices.append(i)\n",
    "\n",
    "        # Process the last group after the loop finishes\n",
    "        if current_group_indices:\n",
    "            real_source = data[current_group_indices[0]]\n",
    "            if (real_source['STACK_FLAG'] <= 1 and \n",
    "                real_source['EP_DET_ML'] >= 6 and \n",
    "                real_source['EXTENT_ML'] <= 0):\n",
    "                selected_indices.extend(current_group_indices)\n",
    "            else:\n",
    "                unselected_indices.extend(current_group_indices)\n",
    "\n",
    "    # Save the indices to text files\n",
    "    np.savetxt(selected_indices_file, selected_indices, fmt='%d')\n",
    "    np.savetxt(unselected_indices_file, unselected_indices, fmt='%d')\n",
    "\n",
    "    print(f\"Selected indices saved to {selected_indices_file}\")\n",
    "    print(f\"Unselected indices saved to {unselected_indices_file}\")"
   ]
  },
  {
   "cell_type": "code",
   "execution_count": 152,
   "metadata": {},
   "outputs": [],
   "source": [
    "path='/Users/baotong/data_GalDisc/data/'\n",
    "fits_file=path+'xmmdr14s/'+'GalDisc_4xmmdr14s.fits'\n",
    "data = fits.open(fits_file)[1].data\n",
    "selected_indices=np.loadtxt(path+'xmmdr14s/'+'GalDisc_selected_indices.txt',dtype='int')\n",
    "unselected_indices=np.loadtxt(path+'xmmdr14s/'+'GalDisc_unselected_indices.txt',dtype='int')"
   ]
  },
  {
   "cell_type": "code",
   "execution_count": 167,
   "metadata": {},
   "outputs": [
    {
     "name": "stdout",
     "output_type": "stream",
     "text": [
      "12986\n",
      "45994\n"
     ]
    }
   ],
   "source": [
    "select=data[selected_indices]\n",
    "unselect=data[unselected_indices]\n",
    "print(len(np.where(select['N_OBS']>0)[0]))\n",
    "print(len(select))"
   ]
  },
  {
   "cell_type": "code",
   "execution_count": 165,
   "metadata": {},
   "outputs": [
    {
     "name": "stdout",
     "output_type": "stream",
     "text": [
      "[('4XMMs J171207.5-231428', 3050515010100756, '',          19,           7, 19, 13, 0, 258.03160621, -23.24135759, 1.5613805, 0.63504292,  9.40669546, 921.5001  , 0.15419154, 1226.4775 , 0.35860047,  9.495759, 2, 12, 'TFTFTFTFTT', 'TFTFTFTFT', 'FFTFTFTFF', 'FFTFTFTFF', '', -9223372036854775808, -9223372036854775808,          nan,          nan,       nan,        nan, -32768, -32768, -32768, 2.6603746e-14, 1.3331159e-14, 2.6818514e-16, 6.0629819e-16, 3.6729516e-16, 5.1275171e-16, 3.0954091e-16, 2.6863250e-16, 5.9136732e-15, 1.3519190e-15, 1.1416197e-14, 1.3066641e-14, 2.6177355e-14, 1.4142416e-14, 2.8970118e-16, 8.5543043e-16, 2.7661883e-16, 5.4592952e-16, 2.230271e-16, 2.7016219e-16, 1.4441202e-14, 2.71515734e-15, 1.09468065e-14, 1.3839547e-14, 2.1749055e-14, 5.8376874e-14, 2.0311841e-16, 1.0448552e-15, 1.3105946e-16, 1.91209239e-15, 4.4486789e-15, 3.1009548e-15, 3.0904476e-15, 1.6109601e-15, 1.3875750e-14, 5.8231435e-14, 3.7264689e-14, 5.4750868e-14, 3.3715691e-16, 1.5113106e-15, 2.4781910e-15, 2.3922368e-15, 1.46919643e-14, 4.3649416e-15, 3.2817432e-15, 6.1820992e-15, 1.6475634e-14, 5.4151450e-14,        nan,        nan, 0.00415857, 0.00127498, 0.00029207, 0.0007125 , 0.00027013, 0.00042891, 0.00014574, 0.00015577, 0.00281295, 0.00052312, 0.00063768, 0.00079751, 0.00138663, 0.00111518, 3.3031811e-05, 1.5930993e-04, 2.2101060e-05, 0.00032259, 0.00089754, 0.00062177, 0.0002322 , 0.00011742, 0.00020175, 0.00084487, 0.00393989, 0.00136814, 5.2516072e-05, 0.00022936, 0.00042801, 0.00040781, 0.00296498, 0.00087555, 0.00024125, 0.00045323, 0.00025313, 0.00082517, 1.3468462e+04, 959.60223  , 3638.7864, 531.0002  , 3.2685015e+03, 522.7858   , 6561.1743  , 604.6241  , 171.71451   , 11.547824 , 2.5699584, 2.4720588, 6.922106, 4.3523474, 0.0016878 , 1.8735708e+01, 0.09118511, 1.7377181e-03, 29.377888  , 1.5890005e+00, 0.0923706 , 157.86458   , 1.3222689e-06, 1.0761949e+02, 68.60354  , 1.2274282 , 0.1936248 , 46.14113, 2.12161, 162.17896  ,        nan,        nan,         nan,        nan,         nan,        nan,         nan,        nan,        nan,        nan,        nan,       nan,         nan,        nan,           nan,        nan,        nan,        nan,       nan,        nan,         nan,        nan,         nan,        nan,        nan,        nan,        nan,        nan,         nan,        nan,         nan,        nan, 556050.1  , 121426.1  , 121295.35 , 121390.91  , 117641.45 , 74296.28  , 767888.94  , 167826.84  , 167650.34  , 167718.53   , 162548.56  , 102144.64  , 785890.94  , 171833.     , 171646.45   , 171722.08   , 166394.23   , 104295.19   , 138.86382  , 5.376558  , 23.70536  , 54.02461  , 33.135952 , 22.621344 , 5.9475285e+01, 1.5628841 , 7.8897266e+00, 2.20127277e+01, 1.9921375e+01, 8.088569  , 5.4592476e+01, 1.4470568e+00, 6.046882e+00, 2.1489573e+01, 1.7093227e+01, 8.5157375e+00, 427538.7   , 382782.84 , 376929.5   , 386740.2  , 6.4843774, 1.0000000e+01,  10., 0.884431 , 0.8941978, 0.8921563 , 24.331476,       nan,       nan,        nan,       nan,       nan,       nan,       nan,        nan,        nan,        nan,        nan,        nan,        nan,        nan,        nan,        nan,        nan,        nan,        nan,  1,  1, 13.949086 , 0.67252743, 4.567308, 63.350193 , 80.65445   , 4.789487  , 6.15203455e-16, 0.69558469, 4.11190700e-05, 1.13143009e-91, 1.02748839e-117, 2.11193141e-05, 76.660805 , 260.01794 , inf, inf, inf, inf,       inf,      inf,      inf,       inf,       inf,       inf,  6.3761897 , 1.5714444,  4.7327156, 18.358395 ,  4.5921445,  4.80871  ,    6.859485,  4.7333902e-01,    4.119224,  1.7481001e+01,   14.88236,    4.0354567, inf, 2707.9282, inf,      inf, 2327.4734, inf, 1.8149649 , 1.4916122e+02, 3.327941, inf, nan,  0., nan,        nan,  0., nan, 0.09184293, 6.10601578e-159, 0.00280636, nan, inf, 114.8692, inf, 0.5326416, 12.420717, inf,  2.5859637 , 1.5367838 , 3.0273218, inf, nan, nan, nan,  0, 54345.18384259, 59655.11844907, -32768,       nan, -32768, '', '', '', '', '', '',  0,       nan,      nan,       nan,      nan,        nan,       nan,      nan,      nan, '', -32768,          nan,          nan,          nan,        nan,        nan,        nan, '')\n",
      " ('4XMMs J171207.5-231428', 3050515010100756, '0505150101', -2147483648, -2147483648,  3,  0, 3, 258.03160621, -23.24135759, 1.5613805, 0.63504292,  9.40669546, 921.5001  , 0.15419154, 1226.4775 , 0.35860047,  9.495759, 2, 12, 'FFTFTFTFFT', 'FFTFTFTFF', 'FFTFTFTFF', 'FFTFTFTFF', '', -9223372036854775808, -9223372036854775808,          nan,          nan,       nan,        nan, -32768, -32768, -32768, 1.6364506e-13, 4.8304256e-14, 6.1421549e-17, 1.2400158e-15, 4.2324047e-16, 3.0488506e-15, 0.0000000e+00, 9.8924290e-16, 1.3143627e-13, 8.4503988e-15, 0.0000000e+00, 4.7315267e-14, 2.4192445e-13, 6.2188935e-14, 0.0000000e+00, 1.5517859e-15, 0.0000000e+00, 4.6201094e-15, 0.000000e+00, 1.0179500e-15, 2.4192445e-13, 1.26448644e-14, 0.00000000e+00, 6.0685926e-14, 4.0834733e-14, 7.7979771e-14, 0.0000000e+00, 2.2603532e-15, 0.0000000e+00, 4.11858717e-15, 0.0000000e+00, 4.6039570e-15, 4.0834733e-14, 1.1452967e-14, 0.0000000e+00, 7.6853142e-14, 1.5568750e-13, 4.2412832e-13, 1.0152179e-15, 5.0413453e-15, 2.5609884e-14, 2.3716269e-14, 0.00000000e+00, 1.0182512e-14, 1.2906240e-13, 8.9114073e-14, 0.0000000e+00, 4.1382598e-13, 0.06363827, 0.0118529 , 0.04666723, 0.00578196, 0.        , 0.00129878, 0.        , 0.00363515, 0.        , 0.00058708, 0.04666723, 0.00243919, 0.        , 0.00349794, 0.00297767, 0.00184431, 0.0000000e+00, 3.4488467e-04, 0.0000000e+00, 0.00069909, 0.        , 0.00092346, 0.00297767, 0.00083515, 0.        , 0.00111514, 0.01399337, 0.0101813 , 1.5454662e-04, 0.00076744, 0.00437468, 0.00405121, 0.        , 0.00204455, 0.00946414, 0.00653473, 0.        , 0.00630671, 8.4365765e+02, 168.68666  ,  556.161 ,  62.818687, 4.6693832e+01,  26.329338 ,  240.80278 , 154.32358 ,   1.7418429 ,  4.2585015, 0.       , 0.       , 0.      , 7.210659 , 0.        , 5.1231309e-06, 0.        , 0.0000000e+00,  0.        , 5.4033385e-03, 0.        ,   0.16068712, 2.3373344e-05, 1.8626566e-01,  0.       , 0.457735  , 0.        , 46.14113, 2.12161, 162.17896  , 0.93175584, 0.33296487, -1.        , 0.93471825,  1.        , 0.02509724, -1.        , 0.1461085 ,        nan,        nan,        nan,       nan,  1.        , 0.02516037, -1.000000e+00, 0.14990976,        nan,        nan,       nan,        nan,  1.        , 0.62025815, -1.        , 0.74900144, 0.93175584, 0.33296487, -1.       , 0.93471825,  1.        , 0.43206158, -1.        , 1.3327582 ,  56742.207,  12179.662,  12171.808,  12177.201 ,  11917.593,  8295.942 ,  74617.445 ,  16029.868 ,  16016.36  ,  16022.762  ,  15681.338 ,  10867.12  ,  80723.93  ,  17536.928  ,  17518.162  ,  17525.703  ,  17059.773  ,  11083.363  ,  12.76524  , 0.42512697,  1.8184612,  5.8026614,  2.741983 ,  1.9770076, 6.7772326e+00, 0.13544723, 1.0013463e+00, 2.79663968e+00, 1.8300364e+00, 1.013763  , 5.0823946e+00, 1.0003438e-01, 6.586340e-01, 2.1731219e+00, 1.4578903e+00, 6.9271410e-01,  32454.59  ,  26480.553,  32432.652 ,  32454.59 , 6.4843774, 1.0000000e+01,  10., 0.8667945, 0.7445411, 0.8921563 , 24.331476,  8.981966,  8.981966,  9.20291  , 10.230197, 0.5778673, 0.5774523, 0.5776065, 0.5654621 , 0.3937803 , 0.60746783, 0.60693717, 0.6071531 , 0.59421235, 0.410502  , 0.55648   , 0.55590504, 0.5561402 , 0.54183745, 0.35489598,  1,  1,        nan,        nan,      nan,        nan,         nan,        nan,            nan,        nan,            nan,            nan,             nan,            nan,        nan,        nan, nan, nan, nan, nan,       nan,      nan,      nan,       nan,       nan,       nan,         nan,       nan,        nan,        nan,        nan,        nan, -999.      , -9.9900000e+02, -999.      , -9.9900000e+02, -999.     , -999.       , nan,       nan, nan,      nan,       nan, nan,        nan,           nan,      nan, nan, nan, nan, nan,        nan, nan, nan,        nan,             nan,        nan, nan, nan,      nan, nan,       nan,       nan, nan,         nan,        nan,       nan, nan, nan, nan,  0.,  0, 54345.18384259, 54345.49403935,   1416, 274.69675,      4, 'PrimeFullWindowExtended', 'PrimeFullWindow', 'PrimeFullWindow', 'Medium', 'Medium', 'Medium',  0,       nan,      nan,       nan,      nan,        nan,       nan,      nan,      nan, '', -32768, 1.078176e-05, 6.198950e-06, 6.040897e-06, 0.92508218, 0.94492936, 0.94772116, '')\n",
      " ('4XMMs J171207.5-231428', 3050515010100756, '0505150401', -2147483648, -2147483648,  3,  0, 3, 258.03160621, -23.24135759, 1.5613805, 0.63504292,  9.40669546, 921.5001  , 0.15419154, 1226.4775 , 0.35860047,  9.495759, 2, 11, 'FFTFFFFFFT', 'FFTFFFFFF', 'FFTFFFFFF', 'FFTFFFFFF', '', -9223372036854775808, -9223372036854775808,          nan,          nan,       nan,        nan, -32768, -32768, -32768, 8.4289048e-13, 9.4947372e-14, 1.5264499e-14, 9.5947911e-15, 3.5301026e-14, 6.7092590e-15, 1.2797963e-13, 6.9006317e-15, 2.0035160e-13, 1.2401915e-14, 4.9737178e-13, 9.1974598e-14, 8.3131565e-13, 9.6791268e-14, 1.6992702e-14, 1.1260706e-14, 5.2765006e-14, 8.3605108e-15, 1.289513e-13, 7.0183655e-15, 1.5018317e-13, 1.86004065e-14, 4.82423454e-13, 9.3683592e-14, 7.4512445e-13, 7.9071542e-13, 2.4154717e-14, 3.1942520e-14, 1.3519399e-16, 1.23826484e-14, 8.6166066e-14, 5.8855441e-14, 2.4842419e-13, 1.6970090e-14, 3.8624429e-13, 7.8759460e-13, 1.3809811e-12, 6.2176875e-13, 4.0720664e-15, 2.2382061e-14, 2.0517860e-14, 2.6852830e-14, 1.09306254e-13, 4.9388651e-14, 4.2452631e-14, 8.4868866e-14, 1.2046322e-12, 6.1297012e-13, 0.2444683 , 0.02408526, 0.15987171, 0.01053342, 0.00867732, 0.00575028, 0.03191175, 0.00505635, 0.06433767, 0.00350167, 0.02745649, 0.00340053, 0.02748849, 0.00533809, 0.04071793, 0.01587313, 2.4099161e-03, 3.1869051e-03, 1.8645955e-05, 0.00170781, 0.01539874, 0.01051806, 0.01736734, 0.00118638, 0.00552329, 0.0112626 , 0.04387865, 0.01473739, 4.0341963e-04, 0.00221739, 0.00284562, 0.00372422, 0.01955161, 0.00883415, 0.00298442, 0.00596628, 0.01809357, 0.00920681, 1.6708853e+03, 182.76292  ,  968.3299,  62.68657 , 3.6659717e+02, 125.470665 ,  335.95816 , 117.1742  ,   8.78751   ,  8.074366 , 0.5735117, 2.261131 , 5.156954, 0.5747888, 0.07757382, 1.2810105e+00, 0.14586806, 2.8492353e-10,  0.80300987, 1.0720731e+00, 0.01268912,   1.0952551 , 2.2755604e-04, 1.8923039e-02,  1.2984279, 0.00277078, 0.6881239 , 46.14113, 2.12161, 162.17896  , 0.53880167, 0.22229488,  0.42084998, 0.06862169, -0.39422882, 0.05556683,  0.02423814, 0.11099543, 0.57243055, 0.22904654, 0.33689472, 0.0742601, -0.40178138, 0.05672216,  5.824392e-04, 0.1151633 , -0.9846445, 1.3957883 , 0.9975812, 0.22128227,  0.06008035, 0.34198806, -0.5174188 , 0.7470164 , 0.7516685 , 1.2288921 ,  0.7458952, 0.30712232, -0.73514235, 0.47095558,  0.71682125, 0.5014536 ,  29822.617,   6575.478,   6566.085,   6605.3804,   6336.652,  3739.0222,  44266.69  ,   9781.57  ,   9769.558 ,   9773.807  ,   9388.576 ,   5553.1816,  42362.562 ,   9371.449  ,   9359.192  ,   9363.024  ,   8980.83   ,   5288.0674 ,   6.3206506, 0.19736409,  1.0483536,  2.0949244,  1.6458888,  1.3341198, 2.9374070e+00, 0.0530513 , 3.5085005e-01, 1.11071563e+00, 1.0050017e+00, 0.4177884 , 2.5412579e+00, 6.2384296e-02, 3.049318e-01, 1.0361145e+00, 7.4527884e-01, 3.9254844e-01,  27622.705 ,  22554.457,  27617.57  ,  27622.705, 6.4843774, 1.0000000e+01,  10., 0.884431 , 0.8941978, 0.8855417 , 24.331476, 13.181662, 13.801212, 13.181662 , 14.000251, 0.3640542, 0.3635539, 0.3637361, 0.34910846, 0.20618147, 0.366912  , 0.36646706, 0.3666232 , 0.3524113 , 0.20881484, 0.34165576, 0.34120935, 0.34136346, 0.32729483, 0.19245155,  1,  1,        nan,        nan,      nan,        nan,         nan,        nan,            nan,        nan,            nan,            nan,             nan,            nan,        nan,        nan, nan, nan, nan, nan,       nan,      nan,      nan,       nan,       nan,       nan,         nan,       nan,        nan,        nan,        nan,        nan, -999.      , -9.9900000e+02, -999.      , -9.9900000e+02, -999.     , -999.       , nan,       nan, nan,      nan,       nan, nan,        nan,           nan,      nan, nan, nan, nan, nan,        nan, nan, nan,        nan,             nan,        nan, nan, nan,      nan, nan,       nan,       nan, nan,         nan,        nan,       nan, nan, nan, nan,  0.,  0, 54517.24664352, 54517.52168981,   1502,  94.73141,      2, 'PrimeFullWindowExtended', 'PrimeFullWindow', 'PrimeFullWindow', 'Thick', 'Thick', 'Thick',  1, -0.414274, 0.317314, -0.330012, 0.161281, -0.0550016, 0.031003 , 0.504282, 0.333633, '2MASS',     18, 7.019422e-06, 2.775708e-06, 2.476618e-06, 0.94881926, 0.93815407, 0.94411713, '')\n",
      " ...\n",
      " ('4XMMs J181121.8-212054', 3014584020100022, '',           2,           2,  3,  3, 0, 272.8410878 , -21.34858352, 1.0784173, 9.48066815, -1.24882676,  96.031586, 0.15398838,  196.24478, 0.22130087, 98.33617 , 1,  1, 'TFFFFFFFFF', 'FFFFFFFFF', 'FFFFFFFFF', 'TFFFFFFFF', '4XMM J181121.8-212054',      201458402010022, -9223372036854775808, 272.84083865, -21.34859102, 1.0412698, 0.83582276,      1,      0,      0, 9.8637590e-14, 4.1837373e-14, 0.0000000e+00, 3.8699088e-16, 6.8800950e-15, 2.4033533e-15, 1.6212065e-14, 3.2375255e-15, 3.7080399e-14, 8.5501945e-15, 3.8599583e-14, 4.0750511e-14, 0.0000000e+00, 0.0000000e+00,           nan,           nan,           nan,           nan,          nan,           nan,           nan,            nan,            nan,           nan, 9.7177264e-14, 4.1868557e-14, 0.0000000e+00, 3.8700552e-16, 6.9832170e-15, 2.42129747e-15, 1.6043355e-14, 3.2428216e-15, 3.6817073e-14, 8.5703802e-15, 3.7333621e-14, 4.0779852e-14, 1.0779127e-12, 1.0842161e-12, 0.0000000e+00, 4.4485279e-14, 0.0000000e+00, 1.9777435e-14, 6.77377127e-14, 5.6671342e-14, 9.2782329e-14, 1.2464925e-13, 9.1739268e-13, 1.0744325e-12, 0.00841487, 0.00122296,        nan,        nan,        nan,        nan,        nan,        nan,        nan,        nan,        nan,        nan,        nan,        nan, 0.00785318, 0.0011803 , 0.0000000e+00, 6.7126108e-05, 1.2193394e-03, 0.00042278, 0.00327397, 0.00066176, 0.00271526, 0.00063207, 0.00054134, 0.00059131, 0.03473646, 0.02367646, 0.0000000e+00, 0.00771197, 0.        , 0.00347529, 0.0138361 , 0.01157569, 0.00688259, 0.00924648, 0.01401776, 0.01641733, 9.0457321e+01,   3.5475597,       nan,        nan, 8.3378960e+01,  11.631114 ,    7.078361,   4.806657,  77.53039   ,        nan,       nan,       nan,      nan,       nan,        nan, 8.0264648e+01, 0.        , 1.1594565e+01, 45.808994  , 3.0079031e+01, 0.2098567 ,   1.2769464 , 0.0000000e+00, 0.0000000e+00,  1.8798583, 0.30865684, 0.59214145,  0.     , 0.     ,  -1.1477127, 1.        , 0.10223796,  0.5096161 , 0.14468001, -0.12583795, 0.14570028, -0.5276204 , 0.28382647,        nan,        nan,        nan,       nan,         nan,        nan,           nan,        nan,  1.       , 0.10223796, 0.4652609, 0.15108153, -0.11640014, 0.14894173, -0.6574382 , 0.3042887 ,        nan,        nan,  1.       , 0.50235105, -0.33561525, 0.702199  ,  0.34138972, 0.78728336,        nan,        nan,        nan,         nan,        nan,        nan,  49616.234 ,  10940.799 ,  10924.053 ,  10931.029  ,  10523.105 ,   6297.2524,   3250.5652,    251.06923,    250.72212,    250.53227,    237.35568,    141.13152,         nan,        nan,        nan,        nan,        nan,        nan, 4.2865703e-01, 0.04096594, 6.8726018e-02, 1.04245536e-01, 9.1321796e-02, 0.12339775, 4.9999999e-05, 9.9999997e-06, 1.000000e-05, 9.9999997e-06, 9.9999997e-06, 9.9999997e-06,  25072.021 ,      0.   ,  25072.021 ,      0.   ,       nan, 1.6686242e-02, -inf, 0.       , 0.9865542, 0.23401657, 13.223414,       nan,       nan,        nan,       nan,       nan,       nan,       nan,        nan,        nan,        nan,        nan,        nan,        nan,        nan,        nan,        nan,        nan,        nan,        nan,  1,  1,  0.2141015,        nan, 0.768088,  1.8905244,  0.25338158, 0.03490193, 8.07266447e-01,        nan, 4.63899204e-01, 1.50992615e-01, 7.76171653e-001, 9.65700115e-01,  2.8272467,  10.715358, nan, nan, inf, inf, 7.4715157, 33.51042, 1.645158, 2.0481465, 2.8239772, 26.452784, -0.46271104,       nan, -0.8764063, -1.3749634, -0.5033702, -0.1868206,    0.      ,            nan,    0.      ,  1.1694863e-01,    0.     ,    0.       , nan,       inf, nan, 7.937015,       inf, nan, 0.00788388, 8.7036639e-02,      inf, nan, nan, nan, nan, 0.00035727, nan, nan, 0.99214711, 9.16643509e-001,        nan, nan, nan,      inf, nan, 2.0448039,       inf, nan, -0.06629696, 0.21344613,       inf, nan, nan, nan, nan,  0, 52734.37866898, 52927.84409722, -32768,       nan, -32768, '', '', '', '', '', '',  0,       nan,      nan,       nan,      nan,        nan,       nan,      nan,      nan, '', -32768,          nan,          nan,          nan,        nan,        nan,        nan, 'http://xmm-catalog.irap.omp.eu/source/201458402010022/')\n",
      " ('4XMMs J181121.8-212054', 3014584020100022, '0145840201', -2147483648, -2147483648,  1,  1, 0, 272.8410878 , -21.34858352, 1.0784173, 9.48066815, -1.24882676,  96.031586, 0.15398838,  196.24478, 0.22130087, 98.33617 , 1,  0, 'FFFFFFFFFF', 'FFFFFFFFF', 'FFFFFFFFF', 'FFFFFFFFF', '4XMM J181121.8-212054',      201458402010022,      101458402010022, 272.84083865, -21.34859102, 1.0412698, 0.83582276, -32768,      0, -32768, 1.0460473e-13, 4.3874111e-14, 0.0000000e+00, 3.8723953e-16, 7.5249348e-15, 2.5134587e-15, 1.7642724e-14, 3.4006213e-15, 3.8430454e-14, 8.9609784e-15, 4.1006617e-14, 4.2738823e-14,           nan,           nan,           nan,           nan,           nan,           nan,          nan,           nan,           nan,            nan,            nan,           nan, 1.0460473e-13, 4.3874111e-14, 0.0000000e+00, 3.8723953e-16, 7.5249348e-15, 2.51345867e-15, 1.7642724e-14, 3.4006213e-15, 3.8430454e-14, 8.9609784e-15, 4.1006617e-14, 4.2738823e-14,           nan,           nan,           nan,           nan,           nan,           nan,            nan,           nan,           nan,           nan,           nan,           nan, 0.00834312, 0.00122454,        nan,        nan,        nan,        nan,        nan,        nan,        nan,        nan,        nan,        nan,        nan,        nan, 0.00834312, 0.00122454, 0.0000000e+00, 6.7166700e-05, 1.3139287e-03, 0.00043887, 0.00360035, 0.00069396, 0.00283425, 0.00066087, 0.0005946 , 0.00061971,        nan,        nan,           nan,        nan,        nan,        nan,        nan,        nan,        nan,        nan,        nan,        nan, 8.2561317e+01,  11.378311 ,       nan,        nan, 8.2561317e+01,  11.378311 ,         nan,        nan,  87.74352   ,        nan,       nan,       nan,      nan,       nan,        nan, 8.7743523e+01, 0.        , 1.2838997e+01, 47.651577  , 3.1290581e+01, 0.41278997,          nan,           nan,           nan,        nan,        nan,        nan,  0.     , 0.     ,  -1.1477127, 1.        , 0.10223796,  0.4652609 , 0.15108153, -0.11906026, 0.14911906, -0.65317976, 0.3061742 ,        nan,        nan,        nan,       nan,         nan,        nan,           nan,        nan,  1.       , 0.10223796, 0.4652609, 0.15108153, -0.11906026, 0.14911906, -0.65317976, 0.3061742 ,        nan,        nan,        nan,        nan,         nan,        nan,         nan,        nan,        nan,        nan,        nan,         nan,        nan,        nan,  46938.312 ,  10348.662 ,  10332.464 ,  10339.2705 ,   9954.889 ,   5963.028 ,         nan,          nan,          nan,          nan,          nan,          nan,         nan,        nan,        nan,        nan,        nan,        nan, 3.7708038e-01, 0.0360705 , 6.2258229e-02, 9.23422650e-02, 8.0087155e-02, 0.10632222,           nan,           nan,          nan,           nan,           nan,           nan,  23233.6   ,      0.   ,  23233.6   ,      0.   ,       nan, 1.6686242e-02,  nan,       nan, 0.9863484,        nan, 13.223414, 13.285529,       nan, 13.285529 ,       nan,       nan,       nan,       nan,        nan,        nan, 0.4472859 , 0.44657823, 0.44686818, 0.43017733, 0.2574922 ,        nan,        nan,        nan,        nan,        nan,  1,  1,        nan,        nan,      nan,        nan,         nan,        nan,            nan,        nan,            nan,            nan,             nan,            nan,        nan,        nan, nan, nan, nan, nan,       nan,      nan,      nan,       nan,       nan,       nan,         nan,       nan,        nan,        nan,        nan,        nan,         nan,            nan,         nan,            nan,        nan,          nan, nan,       nan, nan,      nan,       nan, nan,        nan,           nan,      nan, nan, nan, nan, nan,        nan, nan, nan,        nan,             nan,        nan, nan, nan,      nan, nan,       nan,       nan, nan,         nan,        nan,       nan, nan, nan, nan,  0.,  0, 52734.37866898, 52734.77391204,    608,  88.50461,      0, 'PrimeFullWindow', 'PrimeFullWindow', 'PrimeFullWindow', 'Thin1', 'Thin1', 'Thin1',  1,  0.13216 , 0.191647, -2.28394 , 0.172455, -0.0303371, 0.0219679, 2.28726 , 0.248296, '2MASS',     46, 2.924700e-06, 1.049506e-06, 1.050195e-06, 0.78710991, 0.75921035, 0.79910742, 'http://xmm-catalog.irap.omp.eu/source/201458402010022/')\n",
      " ('4XMMs J181121.8-212054', 3014584020100022, '0145841101', -2147483648, -2147483648,  2,  2, 0, 272.8410878 , -21.34858352, 1.0784173, 9.48066815, -1.24882676,  96.031586, 0.15398838,  196.24478, 0.22130087, 98.33617 , 1,  1, 'TFFFFFFFFF', 'FFFFFFFFF', 'FFFFFFFFF', 'TFFFFFFFF', '', -9223372036854775808, -9223372036854775808,          nan,          nan,       nan,        nan, -32768, -32768, -32768, 3.6998799e-14, 1.3936535e-13, 0.0000000e+00, 1.0800583e-14, 0.0000000e+00, 8.2099990e-15, 2.3613313e-15, 1.0581000e-14, 2.3359734e-14, 2.8567159e-14, 1.4520874e-14, 1.3517548e-13,           nan,           nan,           nan,           nan,           nan,           nan,          nan,           nan,           nan,            nan,            nan,           nan, 1.9511272e-14, 1.4053115e-13, 0.0000000e+00, 1.1133717e-14, 0.0000000e+00, 9.02428902e-15, 0.0000000e+00, 1.0770392e-14, 1.9511272e-14, 2.9348292e-14, 0.0000000e+00, 1.3625815e-13, 1.0779127e-12, 1.0842161e-12, 0.0000000e+00, 4.4485279e-14, 0.0000000e+00, 1.9777435e-14, 6.77377127e-14, 5.6671342e-14, 9.2782329e-14, 1.2464925e-13, 9.1739268e-13, 1.0744325e-12, 0.03617541, 0.02408747,        nan,        nan,        nan,        nan,        nan,        nan,        nan,        nan,        nan,        nan,        nan,        nan, 0.00143896, 0.00443074, 0.0000000e+00, 1.9311432e-03, 0.0000000e+00, 0.00157573, 0.        , 0.00219791, 0.00143896, 0.00216444, 0.        , 0.00197574, 0.03473646, 0.02367646, 0.0000000e+00, 0.00771197, 0.        , 0.00347529, 0.0138361 , 0.01157569, 0.00688259, 0.00924648, 0.01401776, 0.01641733, 7.8960009e+00,   5.3778057,       nan,        nan, 8.1763989e-01,   2.4118135,    7.078361,   4.806657,   0.42142624,        nan,       nan,       nan,      nan,       nan,        nan, 3.6323145e-03, 0.        , 0.0000000e+00,  0.        , 1.8982644e-01, 0.        ,   1.2769464 , 0.0000000e+00, 0.0000000e+00,  1.8798584, 0.3086568 , 0.5921414 ,  0.     , 0.     ,  -1.1477127,        nan,        nan,  1.        , 0.50235105, -0.2685875 , 0.6843523 ,  0.23951025, 0.7567957 ,        nan,        nan,        nan,       nan,         nan,        nan,           nan,        nan,        nan,        nan,       nan,        nan,  1.        , 3.0548725 , -1.        , 2.7460778 ,        nan,        nan,  1.       , 0.50235105, -0.33561525, 0.702199  ,  0.34138972, 0.78728336,        nan,        nan,        nan,         nan,        nan,        nan,   2677.9258,    592.1364,    591.5885,    591.75885,    568.2173,    334.2246,   1130.8108,    251.06923,    250.72212,    250.53227,    237.35568,    141.13152,         nan,        nan,        nan,        nan,        nan,        nan, 5.1576663e-02, 0.00489544, 6.4677857e-03, 1.19032739e-02, 1.1234637e-02, 0.01707553, 4.9999999e-05, 9.9999997e-06, 1.000000e-05, 9.9999997e-06, 9.9999997e-06, 9.9999997e-06,   1838.4226,      0.   ,   1838.4226,      0.   ,       nan, 2.8779127e-03,  nan,       nan, 0.9865542, 0.23401657, 13.223414, 12.384887,       nan, 13.1520405, 12.384887,       nan,       nan,       nan,        nan,        nan, 0.3223203 , 0.3220174 , 0.32210147, 0.30922064, 0.18169789, 0.3509542 , 0.3506522 , 0.3507366 , 0.33773258, 0.20142773,  1,  1,        nan,        nan,      nan,        nan,         nan,        nan,            nan,        nan,            nan,            nan,             nan,            nan,        nan,        nan, nan, nan, nan, nan,       nan,      nan,      nan,       nan,       nan,       nan,         nan,       nan,        nan,        nan,        nan,        nan,         nan,            nan,         nan,            nan,        nan,          nan, nan,       nan, nan,      nan,       nan, nan,        nan,           nan,      nan, nan, nan, nan, nan,        nan, nan, nan,        nan,             nan,        nan, nan, nan,      nan, nan,       nan,       nan, nan,         nan,        nan,       nan, nan, nan, nan,  0.,  0, 52927.68577546, 52927.84409722,    705, 268.18506,      0, '', 'PrimeFullWindow', 'PrimeFullWindow', '', 'Thin1', 'Thin1',  0,       nan,      nan,       nan,      nan,        nan,       nan,      nan,      nan, '', -32768, 8.236186e-06, 1.788882e-06, 1.781408e-06, 0.94730429, 0.90019198, 0.9149199 , '')]\n"
     ]
    }
   ],
   "source": [
    "a=fits.open(fits_file)\n",
    "print(a['XMMST3.2'].data)"
   ]
  },
  {
   "cell_type": "code",
   "execution_count": 161,
   "metadata": {},
   "outputs": [
    {
     "name": "stdout",
     "output_type": "stream",
     "text": [
      "589\n"
     ]
    }
   ],
   "source": [
    "print(len(np.unique(data['OBS_ID'])))"
   ]
  }
 ],
 "metadata": {
  "kernelspec": {
   "display_name": "base",
   "language": "python",
   "name": "python3"
  },
  "language_info": {
   "codemirror_mode": {
    "name": "ipython",
    "version": 3
   },
   "file_extension": ".py",
   "mimetype": "text/x-python",
   "name": "python",
   "nbconvert_exporter": "python",
   "pygments_lexer": "ipython3",
   "version": "3.8.5"
  }
 },
 "nbformat": 4,
 "nbformat_minor": 2
}
