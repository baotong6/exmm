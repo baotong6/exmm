{
 "cells": [
  {
   "cell_type": "code",
   "execution_count": 1,
   "metadata": {},
   "outputs": [],
   "source": [
    "import numpy as np\n",
    "from astropy.io import fits\n",
    "import matplotlib.pyplot as plt\n",
    "import sys,os\n",
    "import math\n",
    "from tkinter import _flatten\n",
    "from astropy.wcs import WCS\n",
    "import warnings\n",
    "from scipy import stats\n",
    "import pandas as pd\n",
    "from astropy.coordinates import SkyCoord\n",
    "import astropy.units as u"
   ]
  },
  {
   "cell_type": "code",
   "execution_count": null,
   "metadata": {},
   "outputs": [
    {
     "name": "stdout",
     "output_type": "stream",
     "text": [
      "CSV 文件合并完成！\n"
     ]
    }
   ],
   "source": [
    "\n",
    "path='/Users/baotong/data_GalDisc/data/result_GL/'\n",
    "df1 = pd.read_csv(path+'pn_1000_300.csv')\n",
    "# 读取第二个 CSV 文件\n",
    "df2 = pd.read_csv(path+'pn_1000_300_new.csv')\n",
    "# 合并两个 DataFrame，按行合并（默认是按行合并，即纵向合并）\n",
    "merged_df = pd.concat([df1, df2], ignore_index=True)\n",
    "# 将合并后的 DataFrame 保存到新的 CSV 文件\n",
    "merged_df.to_csv(path+'pn_1000_300_tot.csv', index=False)\n",
    "\n",
    "print(\"CSV 文件合并完成！\")"
   ]
  },
  {
   "cell_type": "code",
   "execution_count": null,
   "metadata": {},
   "outputs": [
    {
     "name": "stdout",
     "output_type": "stream",
     "text": [
      "12633\n",
      "23\n"
     ]
    },
    {
     "name": "stdout",
     "output_type": "stream",
     "text": [
      "12633\n"
     ]
    }
   ],
   "source": [
    "path='/Users/baotong/data_GalDisc/data/result_GL/'\n",
    "res=pd.read_csv(path+'pn_1000_300.csv')\n",
    "print(len(res))\n",
    "Prob=res['p_period']\n",
    "candindex=np.where(Prob>0.997)[0]\n",
    "print(len(candindex))\n",
    "cts=[];cts_100=[]\n",
    "srcfilename=[];periodsrc=[]\n",
    "path_data='/Users/baotong/data_GalDisc/data/srcevtfile/csv_all_obs/'\n",
    "# for i in range(len(candindex)):\n",
    "for i in range(len(Prob)):\n",
    "    srcfile=pd.read_csv(path_data+res.iloc[i]['src_file'])\n",
    "    cts.append(len(srcfile))\n",
    "    # if len(srcfile)>100:\n",
    "    #     cts_100.append(len(srcfile))\n",
    "    #     srcfilename.append(res.iloc[candindex[i]]['src_file'])\n",
    "    #     periodsrc.append(2*np.pi/res.iloc[candindex[i]]['w_peak'])\n",
    "print(len(cts))\n",
    "\n",
    "# plt.hist(Prob,bins,histtype='step')\n",
    "# plt.loglog()\n",
    "# plt.show()"
   ]
  },
  {
   "cell_type": "code",
   "execution_count": null,
   "metadata": {},
   "outputs": [
    {
     "name": "stdout",
     "output_type": "stream",
     "text": [
      "Results saved to /data/tong/xmm/srcevt/result_GL/pn_1000_300_tot.xlsx\n"
     ]
    }
   ],
   "source": [
    "import pandas as pd\n",
    "import numpy as np\n",
    "path='/Users/baotong/data_GalDisc/data/result_GL/'\n",
    "df=pd.read_csv(path+'pn_1000_300_tot.csv')\n",
    "first_column = df.iloc[:, 0]  # 选择第一列\n",
    "# 提取新的字符串并拆分\n",
    "ra_dec_list = []\n",
    "for element in first_column:\n",
    "    new_string = str(element)[6:-4]  # 提取字符串\n",
    "    ra, dec = new_string.split('_')  # 按下划线拆分\n",
    "    ra_dec_list.append((ra, dec))  # 保存结果\n",
    "# 创建新的 DataFrame\n",
    "ra_dec_df = pd.DataFrame(ra_dec_list, columns=['ra', 'dec'])\n",
    "# 添加其他列\n",
    "# 假设你的原始 DataFrame 还有其他列（除了第一列）\n",
    "other_columns_df = df.iloc[:, 1:]  # 选择除了第一列的所有列\n",
    "w_peak = df['w_peak']  # 替换为你实际的列名\n",
    "period = 2 * np.pi / w_peak\n",
    "# 将 period 列添加到其他列的 DataFrame\n",
    "other_columns_df['period'] = period\n",
    "other_columns_df['period_lo'] = 2 * np.pi / df['w_conf_hi'] \n",
    "other_columns_df['period_hi'] = 2 * np.pi / df['w_conf_lo'] \n",
    "other_columns_df['cts'] = cts\n",
    "# 合并新的 ra_dec_df 和 other_columns_df\n",
    "final_df = pd.concat([ra_dec_df, other_columns_df], axis=1)\n",
    "# final_df = final_df.astype(float)\n",
    "final_df['srcfile'] = first_column.astype(str) \n",
    "output_file = path+'pn_1000_300_tot.xlsx'  # 替换为你想要的输出文件名\n",
    "final_df.to_excel(output_file, index=False)\n",
    "\n",
    "print(f'Results saved to {output_file}')\n",
    "\n"
   ]
  },
  {
   "cell_type": "code",
   "execution_count": 3,
   "metadata": {},
   "outputs": [],
   "source": [
    "def equatorial_to_galactic(ra, dec):\n",
    "    # Create a SkyCoord object with equatorial coordinates\n",
    "    coord = SkyCoord(ra=ra * u.deg, dec=dec * u.deg, frame='icrs')\n",
    "    galactic_coord = coord.galactic\n",
    "    \n",
    "    # Return the galactic coordinates (l, b)\n",
    "    return galactic_coord.l.deg, galactic_coord.b.deg\n",
    "def galactic_to_equatorial(l, b):\n",
    "    # Create a SkyCoord object with galactic coordinates\n",
    "    coord = SkyCoord(l=l * u.deg, b=b * u.deg, frame='galactic')\n",
    "    equatorial_coord = coord.icrs  # Convert to equatorial coordinates\n",
    "\n",
    "    # Return the equatorial coordinates (ra, dec)\n",
    "    return equatorial_coord.ra.deg, equatorial_coord.dec.deg"
   ]
  },
  {
   "cell_type": "code",
   "execution_count": 24,
   "metadata": {},
   "outputs": [
    {
     "name": "stdout",
     "output_type": "stream",
     "text": [
      "352.03291875231156 0.14227943400926465\n"
     ]
    }
   ],
   "source": [
    "(l,b)=equatorial_to_galactic(261.1620854,\t-35.56074345)\n",
    "print(l,b)"
   ]
  },
  {
   "cell_type": "code",
   "execution_count": 4,
   "metadata": {},
   "outputs": [
    {
     "name": "stdout",
     "output_type": "stream",
     "text": [
      "267.32365393399095 -28.557838829657484\n"
     ]
    }
   ],
   "source": [
    "(ra,dec)=galactic_to_equatorial(0.7407 ,-0.4932)\n",
    "print(ra,dec)"
   ]
  },
  {
   "cell_type": "code",
   "execution_count": 5,
   "metadata": {},
   "outputs": [
    {
     "data": {
      "text/plain": [
       "1.1598913690493786"
      ]
     },
     "execution_count": 5,
     "metadata": {},
     "output_type": "execute_result"
    }
   ],
   "source": [
    "a1=SkyCoord(ra=267.3237626*u.degree,dec=-28.55814656*u.degree)\n",
    "a2=SkyCoord(ra=ra*u.degree,dec=dec*u.degree)\n",
    "a1.separation(a2).arcsec"
   ]
  },
  {
   "cell_type": "code",
   "execution_count": 3,
   "metadata": {},
   "outputs": [
    {
     "data": {
      "image/png": "[encoded data removed]",
      "text/plain": [
       "<Figure size 640x480 with 1 Axes>"
      ]
     },
     "metadata": {},
     "output_type": "display_data"
    }
   ],
   "source": [
    "file_path = '/Users/baotong/data_GalDisc/data/result_GL/pn_allres.xlsx'  # 将此处替换为你的xlsx文件路径\n",
    "df = pd.read_excel(file_path,sheet_name='cand')\n",
    "periodlist=df['period']\n",
    "srcfilelist=df['srcfile']\n",
    "ctslist=df['cts']\n",
    "P_Slist=df['P_Slist']\n",
    "bins1=np.logspace(2,5,10)\n",
    "bins2=np.logspace(2,6,9)\n",
    "plt.hist(ctslist[:26],bins=bins1,histtype='step',lw=2,color='k',label='S24')\n",
    "plt.hist(ctslist[26:],bins=bins2,histtype='step',lw=3,color='r',label='new discovery')\n",
    "plt.semilogx()\n",
    "plt.legend()\n",
    "plt.xlabel('Counts',fontsize=16)\n",
    "plt.ylabel('Number of Sources',fontsize=16)\n",
    "plt.tick_params(labelsize=16)\n",
    "# plt.semilogy()\n",
    "plt.show()"
   ]
  },
  {
   "cell_type": "code",
   "execution_count": 11,
   "metadata": {},
   "outputs": [
    {
     "data": {
      "image/png": "[encoded data removed]",
      "text/plain": [
       "<Figure size 640x480 with 1 Axes>"
      ]
     },
     "metadata": {},
     "output_type": "display_data"
    }
   ],
   "source": [
    "bins1=np.linspace(0.001,2,11)\n",
    "bins2=np.linspace(0.01,3,10)\n",
    "plt.hist(periodlist[:26]/3600.,bins=bins1,histtype='step',color='k',lw=2,label='S24')\n",
    "plt.hist(periodlist[26:]/3600.,bins=bins2,histtype='step',color='r',lw=2,label='new discovery')\n",
    "# plt.semilogx()\n",
    "plt.legend(loc='upper right')\n",
    "plt.xlabel('Period (hours)',fontsize=16)\n",
    "plt.ylabel('Number of Sources',fontsize=16)\n",
    "plt.tick_params(labelsize=16)\n",
    "# plt.semilogy()\n",
    "plt.show()"
   ]
  },
  {
   "cell_type": "code",
   "execution_count": null,
   "metadata": {},
   "outputs": [],
   "source": []
  },
  {
   "cell_type": "code",
   "execution_count": null,
   "metadata": {},
   "outputs": [],
   "source": []
  },
  {
   "cell_type": "code",
   "execution_count": 1,
   "metadata": {},
   "outputs": [],
   "source": [
    "def get_source_files(data_folder):\n",
    "    src_files = []\n",
    "    epoch_files = []\n",
    "    for root, _, files in os.walk(data_folder):\n",
    "        for file in files:\n",
    "            # 查找 pnevt 文件\n",
    "            if file.startswith(\"pnevt\") and file.endswith(\".csv\"):\n",
    "                src_files.append(os.path.join(root, file))\n",
    "                # 生成对应的 epoch 文件名\n",
    "                epoch_file = file.replace(\"pnevt\", \"epoch_pn\")\n",
    "                epoch_path = os.path.join(root, epoch_file)\n",
    "                # 检查对应的 epoch 文件是否存在\n",
    "                if epoch_file in files:\n",
    "                    epoch_files.append(epoch_path)\n",
    "    return src_files, epoch_files"
   ]
  },
  {
   "cell_type": "code",
   "execution_count": 15,
   "metadata": {},
   "outputs": [],
   "source": [
    "data_folder='/data/tong/xmm/srcevt/csv_all_obs/'\n",
    "src_files, epoch_files=get_source_files(data_folder)"
   ]
  },
  {
   "cell_type": "code",
   "execution_count": 14,
   "metadata": {},
   "outputs": [],
   "source": [
    "import pandas as pd\n",
    "path = '/Users/baotong/data_GalDisc/data/'\n",
    "a=pd.read_excel(path+'match_e_xmm/e_xmmdr14s_match_all.xls')"
   ]
  },
  {
   "cell_type": "code",
   "execution_count": 28,
   "metadata": {},
   "outputs": [
    {
     "name": "stdout",
     "output_type": "stream",
     "text": [
      "CSV 文件已成功转换为 /Users/baotong/data_GalDisc/data/match_e_xmm/e_xmmdr14s_match_all_make.xlsx\n"
     ]
    }
   ],
   "source": [
    "csv_file = path+'match_e_xmm/e_xmmdr14s_match_all.csv'  # 你的 CSV 文件路径\n",
    "df = pd.read_csv(csv_file)\n",
    "# 保存为 Excel 文件\n",
    "excel_file = path+'match_e_xmm/e_xmmdr14s_match_all_make.xlsx'  # 保存的 Excel 文件路径\n",
    "df.to_excel(excel_file, index=False, engine='openpyxl')\n",
    "print(f'CSV 文件已成功转换为 {excel_file}')"
   ]
  },
  {
   "cell_type": "code",
   "execution_count": 31,
   "metadata": {},
   "outputs": [
    {
     "name": "stdout",
     "output_type": "stream",
     "text": [
      "DS9 region file '/Users/baotong/data_GalDisc/data/result_GL/pn_allres.reg' has been created.\n"
     ]
    }
   ],
   "source": [
    "import pandas as pd\n",
    "\n",
    "def create_ds9_region_file(input_excel, output_region_file):\n",
    "    # 读取 Excel 文件\n",
    "    df = pd.read_excel(input_excel)\n",
    "\n",
    "    # 打开输出的 DS9 region 文件\n",
    "    with open(output_region_file, 'w') as f:\n",
    "        # 写入 DS9 region 文件头\n",
    "        f.write(\"# Region file format: DS9\\n\")\n",
    "        f.write(\"# global color=white font='helvetica 10' select=1 width=1\\n\")\n",
    "        f.write(\"fk5\\n\")\n",
    "        # 遍历数据框中的每一行，创建对应的 circle 和 text\n",
    "        for _, row in df.iterrows():\n",
    "            ra = row['ra']       # RA 列\n",
    "            dec = row['dec']     # DEC 列\n",
    "            inSlist = row['inSlist']  # inSlist 列\n",
    "\n",
    "            # 创建 region 文件中的 circle 行\n",
    "            # DS9 的 RA 和 DEC 是以度为单位的，需要注意坐标格式\n",
    "            region_line = f\"circle({ra},{dec},0.0138888) # text={{{inSlist}}}\\n\"\n",
    "            f.write(region_line)\n",
    "\n",
    "    print(f\"DS9 region file '{output_region_file}' has been created.\")\n",
    "\n",
    "# 示例使用\n",
    "path='/Users/baotong/data_GalDisc/data/result_GL/'\n",
    "input_excel = path+ 'pn_allres.xlsx'  # 替换为你的 Excel 文件路径\n",
    "output_region_file = path+'pn_allres.reg'  # 输出的 region 文件路径\n",
    "\n",
    "create_ds9_region_file(input_excel, output_region_file)\n"
   ]
  },
  {
   "cell_type": "code",
   "execution_count": null,
   "metadata": {},
   "outputs": [],
   "source": []
  },
  {
   "cell_type": "code",
   "execution_count": null,
   "metadata": {},
   "outputs": [],
   "source": []
  },
  {
   "cell_type": "code",
   "execution_count": null,
   "metadata": {},
   "outputs": [],
   "source": []
  },
  {
   "cell_type": "code",
   "execution_count": null,
   "metadata": {},
   "outputs": [],
   "source": []
  },
  {
   "cell_type": "code",
   "execution_count": null,
   "metadata": {},
   "outputs": [],
   "source": []
  }
 ],
 "metadata": {
  "kernelspec": {
   "display_name": "base",
   "language": "python",
   "name": "python3"
  },
  "language_info": {
   "codemirror_mode": {
    "name": "ipython",
    "version": 3
   },
   "file_extension": ".py",
   "mimetype": "text/x-python",
   "name": "python",
   "nbconvert_exporter": "python",
   "pygments_lexer": "ipython3",
   "version": "3.8.5"
  }
 },
 "nbformat": 4,
 "nbformat_minor": 2
}
