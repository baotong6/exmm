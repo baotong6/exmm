{
 "cells": [
  {
   "cell_type": "code",
   "execution_count": 9,
   "metadata": {},
   "outputs": [],
   "source": [
    "from astropy.io import fits\n",
    "import numpy as np\n",
    "\n",
    "def crop_fits(input_fits, output_fits, row_start, row_end, col_start=None, col_end=None):\n",
    "    \"\"\"\n",
    "    Crop a region from a 2D data array or a table in a FITS file and save to a new file.\n",
    "\n",
    "    Parameters:\n",
    "        input_fits (str): Path to the input FITS file.\n",
    "        output_fits (str): Path to save the cropped FITS file.\n",
    "        row_start (int): Starting row index (inclusive, 0-based).\n",
    "        row_end (int): Ending row index (exclusive, 0-based).\n",
    "        col_start (int, optional): Starting column index (inclusive, 0-based). Default is None.\n",
    "        col_end (int, optional): Ending column index (exclusive, 0-based). Default is None.\n",
    "    \"\"\"\n",
    "    with fits.open(input_fits) as hdul:\n",
    "        # Identify the data extension (usually PrimaryHDU or BinTableHDU)\n",
    "        for hdu in hdul:\n",
    "            if hdu.data is not None:\n",
    "                data = hdu.data\n",
    "                header = hdu.header\n",
    "                break\n",
    "        else:\n",
    "            raise ValueError(\"No data found in the FITS file!\")\n",
    "\n",
    "        # Process the data based on its type\n",
    "        if isinstance(data, np.ndarray):  # Simple 2D array\n",
    "            if col_start is not None and col_end is not None:\n",
    "                cropped_data = data[row_start:row_end, col_start:col_end]\n",
    "            else:\n",
    "                cropped_data = data[row_start:row_end]\n",
    "        else:  # Table data\n",
    "            # Convert the table to a NumPy structured array\n",
    "            array_data = data.view(np.recarray)\n",
    "            cropped_data = array_data[row_start:row_end]\n",
    "\n",
    "        # Create a new FITS file with the cropped data\n",
    "        new_hdu = fits.PrimaryHDU(data=cropped_data, header=header)\n",
    "        new_hdul = fits.HDUList([new_hdu])\n",
    "        new_hdul.writeto(output_fits, overwrite=True)"
   ]
  },
  {
   "cell_type": "code",
   "execution_count": 12,
   "metadata": {},
   "outputs": [],
   "source": [
    "# Example usage\n",
    "path='/Users/baotong/data_GalDisc/data/'\n",
    "input_fits = path+\"GalDisc_ima_15_subdiv_smooth.fits.gz\"\n",
    "output_fits = path+\"Galcen_15_subdiv_smooth.fits.gz\"\n",
    "row_start, row_end = 7000, 10000  # Replace with your desired row range\n",
    "col_start, col_end = 7500, 10500  # Replace with your desired column range\n",
    "\n",
    "crop_fits(input_fits, output_fits, row_start, row_end, col_start, col_end)\n"
   ]
  },
  {
   "cell_type": "code",
   "execution_count": 6,
   "metadata": {},
   "outputs": [],
   "source": [
    "hdul=fits.open(input_fits)"
   ]
  },
  {
   "cell_type": "code",
   "execution_count": 8,
   "metadata": {},
   "outputs": [
    {
     "name": "stdout",
     "output_type": "stream",
     "text": [
      "[[nan nan nan ... nan nan nan]\n",
      " [nan nan nan ... nan nan nan]\n",
      " [nan nan nan ... nan nan nan]\n",
      " ...\n",
      " [nan nan nan ... nan nan nan]\n",
      " [nan nan nan ... nan nan nan]\n",
      " [nan nan nan ... nan nan nan]]\n"
     ]
    }
   ],
   "source": [
    "print(hdul[0].data)"
   ]
  }
 ],
 "metadata": {
  "kernelspec": {
   "display_name": "base",
   "language": "python",
   "name": "python3"
  },
  "language_info": {
   "codemirror_mode": {
    "name": "ipython",
    "version": 3
   },
   "file_extension": ".py",
   "mimetype": "text/x-python",
   "name": "python",
   "nbconvert_exporter": "python",
   "pygments_lexer": "ipython3",
   "version": "3.8.5"
  }
 },
 "nbformat": 4,
 "nbformat_minor": 2
}
