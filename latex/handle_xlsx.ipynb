{
 "cells": [
  {
   "cell_type": "code",
   "execution_count": 7,
   "metadata": {},
   "outputs": [],
   "source": [
    "import numpy as np\n",
    "import matplotlib.pyplot as plt\n",
    "import pandas as pd\n",
    "from astropy import units as u\n",
    "from astropy.coordinates import SkyCoord\n",
    "import matplotlib.gridspec as gridspec\n",
    "from astropy.io import fits\n"
   ]
  },
  {
   "cell_type": "code",
   "execution_count": 12,
   "metadata": {},
   "outputs": [
    {
     "name": "stdout",
     "output_type": "stream",
     "text": [
      "0      6042\n",
      "1      9149\n",
      "2      4982\n",
      "3      9678\n",
      "4      9676\n",
      "       ... \n",
      "177    6616\n",
      "178    6466\n",
      "179    5660\n",
      "180    5849\n",
      "181    6339\n",
      "Name: xmm_index, Length: 182, dtype: int64\n"
     ]
    }
   ],
   "source": [
    "path='/Users/baotong/data_GalDisc/data/'\n",
    "allinfo=pd.read_excel(path+'match_e_xmm/'+'e_xmmdr14s_match_all_starinfo.xlsx',sheet_name='Sheet1')\n",
    "print(allinfo['xmm_index'])\n",
    "xmmdr14slist = fits.open(path + 'xmmdr14s/GalDisc_4xmmdr14s_new_cleaned.fits')[1].data\n",
    "ncontrib = xmmdr14slist['N_CONTRIB']\n",
    "realsrc = xmmdr14slist[np.where(ncontrib > 0)]\n",
    "xmmflux=realsrc['EP_FLUX'][allinfo['xmm_index']]\n",
    "xmmfluxerr=realsrc['EP_FLUX_ERR'][allinfo['xmm_index']]\n",
    "hr1=realsrc['EP_HR1'][allinfo['xmm_index']]\n",
    "hr2=realsrc['EP_HR2'][allinfo['xmm_index']]\n",
    "hr3=realsrc['EP_HR3'][allinfo['xmm_index']]\n",
    "hr4=realsrc['EP_HR4'][allinfo['xmm_index']]"
   ]
  },
  {
   "cell_type": "code",
   "execution_count": 14,
   "metadata": {},
   "outputs": [
    {
     "name": "stdout",
     "output_type": "stream",
     "text": [
      "Data successfully written to the new 'modified' sheet.\n"
     ]
    }
   ],
   "source": [
    "modified_df = allinfo.copy()\n",
    "modified_df['xmmflux'] = xmmflux\n",
    "modified_df['xmmfluxerr'] = xmmfluxerr\n",
    "modified_df['hr1'] = hr1\n",
    "modified_df['hr2'] = hr2\n",
    "modified_df['hr3'] = hr3\n",
    "modified_df['hr4'] = hr4\n",
    "\n",
    "# Write the DataFrame with new columns to a new sheet in the existing Excel file\n",
    "with pd.ExcelWriter(path + 'match_e_xmm/modified_starinfo.xlsx', engine='xlsxwriter') as writer:\n",
    "    # Write the original data first (Sheet1)\n",
    "    allinfo.to_excel(writer, sheet_name='Sheet1', index=False)\n",
    "    modified_df.to_excel(writer, sheet_name='modified', index=False)\n",
    "\n",
    "print(\"Data successfully written to the new 'modified' sheet.\")"
   ]
  },
  {
   "cell_type": "code",
   "execution_count": 52,
   "metadata": {},
   "outputs": [],
   "source": [
    "import pandas as pd\n",
    "from openpyxl import load_workbook\n",
    "\n",
    "def filter_closest_gaia_match(input_file, sheet_name='Sheet1', new_sheet_name='ClosestMatches'):\n",
    "    \"\"\"\n",
    "    Filters the closest Gaia match for each unique source and saves to a new sheet in the original Excel file.\n",
    "    \n",
    "    Keeps rows with NaN values in 'gaia_separation_arcsec' for unmatched sources.\n",
    "    Prioritizes rows where 'hamstarindex' > 0 by keeping the row where 'gaia_index' matches 'CTP_ID'.\n",
    "    If no matching row is found, keeps the row with the minimum 'gaia_separation_arcsec' ignoring NaNs.\n",
    "\n",
    "    :param input_file: Path to the input Excel file.\n",
    "    :param sheet_name: Name of the sheet to read from. Default is 'Sheet1'.\n",
    "    :param new_sheet_name: Name of the new sheet to save filtered results. Default is 'ClosestMatches'.\n",
    "    \"\"\"\n",
    "    # Read the specified sheet from the Excel file\n",
    "    df = pd.read_excel(input_file, sheet_name=sheet_name, engine='openpyxl')\n",
    "\n",
    "    # Define a function to filter rows based on the criteria\n",
    "    def filter_group(group):\n",
    "        # If 'hamstarindex' > 0, try to select the row where 'gaia_index' matches 'CTP_ID'\n",
    "        if (group['hamstarindex'] > 0).any():\n",
    "            matching_row = group[group['gaia_index'] == group['CTP_ID']]\n",
    "            if not matching_row.empty:\n",
    "                return matching_row\n",
    "            # If no matching row is found, fall back to the row with minimum 'gaia_separation_arcsec' ignoring NaNs\n",
    "            if group['gaia_separation_arcsec'].isna().all():\n",
    "                return group.iloc[[0]]\n",
    "            non_nan_group = group.dropna(subset=['gaia_separation_arcsec'])\n",
    "            if not non_nan_group.empty:\n",
    "                return non_nan_group.loc[[non_nan_group['gaia_separation_arcsec'].idxmin()]]\n",
    "        else:\n",
    "            # If all 'gaia_separation_arcsec' are NaN, keep the first row\n",
    "            if group['gaia_separation_arcsec'].isna().all():\n",
    "                return group.iloc[[0]]\n",
    "            # Otherwise, return the row with the minimum 'gaia_separation_arcsec' ignoring NaNs\n",
    "            non_nan_group = group.dropna(subset=['gaia_separation_arcsec'])\n",
    "            return non_nan_group.loc[[non_nan_group['gaia_separation_arcsec'].idxmin()]]\n",
    "\n",
    "    # Apply the filter to each group of 'e_id' and ensure the result is flattened\n",
    "    closest_matches = df.groupby('e_id', as_index=False, group_keys=False).apply(filter_group)\n",
    "    # Convert the dataframe back to string for consistency\n",
    "    closest_matches = closest_matches.astype(str)\n",
    "\n",
    "    # Load the workbook to append the new sheet\n",
    "    with pd.ExcelWriter(input_file, engine='openpyxl', mode='a', if_sheet_exists='replace') as writer:\n",
    "        closest_matches.to_excel(writer, sheet_name=new_sheet_name, index=False)\n"
   ]
  },
  {
   "cell_type": "code",
   "execution_count": 54,
   "metadata": {},
   "outputs": [],
   "source": [
    "path='/Users/baotong/data_GalDisc/data/match_e_xmm/'\n",
    "input_file = path+'matched_gaia_results_optimized_4sec.xlsx'\n",
    "filter_closest_gaia_match(input_file)"
   ]
  }
 ],
 "metadata": {
  "kernelspec": {
   "display_name": "base",
   "language": "python",
   "name": "python3"
  },
  "language_info": {
   "codemirror_mode": {
    "name": "ipython",
    "version": 3
   },
   "file_extension": ".py",
   "mimetype": "text/x-python",
   "name": "python",
   "nbconvert_exporter": "python",
   "pygments_lexer": "ipython3",
   "version": "3.8.5"
  }
 },
 "nbformat": 4,
 "nbformat_minor": 2
}
