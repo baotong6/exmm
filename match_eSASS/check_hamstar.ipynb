{
 "cells": [
  {
   "cell_type": "code",
   "execution_count": 32,
   "metadata": {},
   "outputs": [],
   "source": [
    "import csv\n",
    "import numpy as np\n",
    "import pandas as pd\n",
    "from astropy import units as u\n",
    "from astropy.coordinates import SkyCoord\n",
    "from astroquery.vizier import Vizier\n",
    "from tqdm import tqdm\n"
   ]
  },
  {
   "cell_type": "code",
   "execution_count": 33,
   "metadata": {},
   "outputs": [],
   "source": [
    "from astroquery.vizier import Vizier\n",
    "def fetch_gaiasrc(gaia_index):\n",
    "    # Initialize Vizier query\n",
    "    vizier = Vizier(columns=[\"**\"], catalog=\"I/355\")\n",
    "    # Define the gaia_index you want to query\n",
    "    # gaia_index = \"4054428172289844480\"  # Replace this with the actual gaia_index\n",
    "    # Query the catalog for the specific gaia_index\n",
    "    result = vizier.query_constraints(Source=\"{}\".format(gaia_index))\n",
    "    # Check if the result is not empty\n",
    "    if result:\n",
    "        source_data = result[0]\n",
    "        print(source_data['RAJ2000'],source_data['DEJ2000'])\n",
    "        return source_data\n",
    "    else:\n",
    "        print(f\"No data found for Gaia index {gaia_index}\")\n",
    "        return []\n",
    "\n"
   ]
  },
  {
   "cell_type": "code",
   "execution_count": 47,
   "metadata": {},
   "outputs": [
    {
     "name": "stdout",
     "output_type": "stream",
     "text": [
      "    RAJ2000    \n",
      "      deg      \n",
      "---------------\n",
      "261.49391586043     DEJ2000    \n",
      "      deg      \n",
      "---------------\n",
      "-35.54211029291\n"
     ]
    },
    {
     "name": "stderr",
     "output_type": "stream",
     "text": [
      "WARNING: UnitsWarning: The unit 'ph' has been deprecated in the VOUnit standard. [astropy.units.format.utils]\n"
     ]
    }
   ],
   "source": [
    "source_data=fetch_gaiasrc(5975718398429644672)"
   ]
  },
  {
   "cell_type": "code",
   "execution_count": 50,
   "metadata": {},
   "outputs": [
    {
     "name": "stdout",
     "output_type": "stream",
     "text": [
      " e_RPmag \n",
      "   mag   \n",
      "---------\n",
      " 0.128668\n"
     ]
    }
   ],
   "source": [
    "print(source_data['e_RPmag'])"
   ]
  },
  {
   "cell_type": "code",
   "execution_count": 31,
   "metadata": {},
   "outputs": [
    {
     "name": "stdout",
     "output_type": "stream",
     "text": [
      "    PM   \n",
      " mas / yr\n",
      "---------\n",
      "    6.059\n",
      "   pmRA  \n",
      " mas / yr\n",
      "---------\n",
      "   -1.492\n",
      "   pmDE  \n",
      " mas / yr\n",
      "---------\n",
      "   -5.873\n",
      " e_pmRA \n",
      "mas / yr\n",
      "--------\n",
      "   0.146\n",
      " e_pmDE \n",
      "mas / yr\n",
      "--------\n",
      "   0.091\n",
      "   Plx   \n",
      "   mas   \n",
      "---------\n",
      "   1.8158\n",
      "    RAJ2000    \n",
      "      deg      \n",
      "---------------\n",
      "265.05673162369     DEJ2000    \n",
      "      deg      \n",
      "---------------\n",
      "-32.28890799026\n"
     ]
    }
   ],
   "source": [
    "print(source_data['PM'])\n",
    "print(source_data['pmRA'])\n",
    "print(source_data['pmDE'])\n",
    "print(source_data['e_pmRA'])\n",
    "print(source_data['e_pmDE'])\n",
    "print(source_data['Plx'])\n",
    "print(source_data['RAJ2000'],source_data['DEJ2000'])\n"
   ]
  },
  {
   "cell_type": "code",
   "execution_count": 17,
   "metadata": {},
   "outputs": [
    {
     "data": {
      "text/latex": [
       "[$1.55732\\mathrm{{}^{\\prime\\prime}}$]"
      ],
      "text/plain": [
       "<Angle [1.55731636] arcsec>"
      ]
     },
     "execution_count": 17,
     "metadata": {},
     "output_type": "execute_result"
    }
   ],
   "source": [
    "ra_e=266.8239703\t;dec_e=-30.0322316\n",
    "ra_xmm=266.8085319;dec_xmm=-30.03010507\n",
    "coord_e = SkyCoord(ra_e*u.degree, dec_e*u.degree)\n",
    "coord_xmm=SkyCoord(ra_xmm*u.degree, dec_xmm*u.degree)\n",
    "coord_gaia=SkyCoord(source_data['RAJ2000'], source_data['DEJ2000'])\n",
    "coord_xmm.separation(coord_gaia).to('arcsec')"
   ]
  }
 ],
 "metadata": {
  "kernelspec": {
   "display_name": "base",
   "language": "python",
   "name": "python3"
  },
  "language_info": {
   "codemirror_mode": {
    "name": "ipython",
    "version": 3
   },
   "file_extension": ".py",
   "mimetype": "text/x-python",
   "name": "python",
   "nbconvert_exporter": "python",
   "pygments_lexer": "ipython3",
   "version": "3.8.5"
  }
 },
 "nbformat": 4,
 "nbformat_minor": 2
}
