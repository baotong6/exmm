{
 "cells": [
  {
   "cell_type": "code",
   "execution_count": 1,
   "metadata": {},
   "outputs": [],
   "source": [
    "# Point source matching script between heritage programme and Swift source catalogue2\n",
    "# This script creats a source list (cross_match_xmm_swift.csv) of matched object between XMM and Swift \n",
    "# observations\n",
    "# AUTHOR : Samaresh Mondal (smondal@camk.edu.pl)\n",
    "# DATE   : 2021 Sep 08"
   ]
  },
  {
   "cell_type": "code",
   "execution_count": 44,
   "metadata": {},
   "outputs": [],
   "source": [
    "import numpy as np\n",
    "import math\n",
    "import pandas as pd\n",
    "import astropy.units as u\n",
    "from astropy.coordinates import SkyCoord\n",
    "from astropy.io import fits\n",
    "from astropy.table import Table"
   ]
  },
  {
   "cell_type": "code",
   "execution_count": 45,
   "metadata": {},
   "outputs": [],
   "source": [
    "# Count rate to flux conversion using nH=1e22, powelaw index=2.0 and normaization=2.212E-03\n",
    "# Swift\n",
    "sw_ctr_to_flux = 5.742E-11  # 0.3-10 keV band flux from 0.3-10 keV band count rate\n",
    "# XMM\n",
    "pn_ctr_to_flux = 5.111E-12  # 0.3-10 keV band flux from 0.2-12 keV band count rate\n",
    "m_ctr_to_flux = 1.461E-11   # 0.3-10 keV band flux from 0.2-12 keV band count rate"
   ]
  },
  {
   "cell_type": "code",
   "execution_count": 46,
   "metadata": {},
   "outputs": [],
   "source": [
    "# Observation ids of heritage pointings\n",
    "obsids_heritage=[['1','0886010101'],['2','0886010401'],['3','0886010501'],\n",
    "                 ['4','0886010601'],['5','0886010301'],['6','0886010701'],\n",
    "                 ['7','0886010801'],['8','0886010201'],['9','0886010901'],\n",
    "                 ['10','0886011001'],['11','0886011101'],['12','0886011201'],\n",
    "                 ['13','0886020301'],['14','0886020101'],['15','0886020301'],\n",
    "                 ['16','0886011301']]"
   ]
  },
  {
   "cell_type": "code",
   "execution_count": 47,
   "metadata": {},
   "outputs": [],
   "source": [
    "df=pd.read_csv(\"2SXPS_Sources.csv\",sep=',',header=None,usecols=[0,1,2,3,44,47],skiprows=1,\\\n",
    "               names=['2SXPS_ID','IAUName','RA','Decl','Rate_band0','HR1'])"
   ]
  },
  {
   "cell_type": "code",
   "execution_count": 48,
   "metadata": {},
   "outputs": [
    {
     "data": {
      "text/html": [
       "<div>\n",
       "<style scoped>\n",
       "    .dataframe tbody tr th:only-of-type {\n",
       "        vertical-align: middle;\n",
       "    }\n",
       "\n",
       "    .dataframe tbody tr th {\n",
       "        vertical-align: top;\n",
       "    }\n",
       "\n",
       "    .dataframe thead th {\n",
       "        text-align: right;\n",
       "    }\n",
       "</style>\n",
       "<table border=\"1\" class=\"dataframe\">\n",
       "  <thead>\n",
       "    <tr style=\"text-align: right;\">\n",
       "      <th></th>\n",
       "      <th>2SXPS_ID</th>\n",
       "      <th>IAUName</th>\n",
       "      <th>RA</th>\n",
       "      <th>Decl</th>\n",
       "      <th>Rate_band0</th>\n",
       "      <th>HR1</th>\n",
       "    </tr>\n",
       "  </thead>\n",
       "  <tbody>\n",
       "    <tr>\n",
       "      <th>0</th>\n",
       "      <td>1</td>\n",
       "      <td>2SXPS J002517.5+640451</td>\n",
       "      <td>6.32300</td>\n",
       "      <td>64.08109</td>\n",
       "      <td>0.896800</td>\n",
       "      <td>0.570</td>\n",
       "    </tr>\n",
       "    <tr>\n",
       "      <th>1</th>\n",
       "      <td>2</td>\n",
       "      <td>2SXPS J002533.4+640903</td>\n",
       "      <td>6.38929</td>\n",
       "      <td>64.15111</td>\n",
       "      <td>0.038400</td>\n",
       "      <td>0.288</td>\n",
       "    </tr>\n",
       "    <tr>\n",
       "      <th>2</th>\n",
       "      <td>3</td>\n",
       "      <td>2SXPS J164421.8+573614</td>\n",
       "      <td>251.09112</td>\n",
       "      <td>57.60415</td>\n",
       "      <td>0.000999</td>\n",
       "      <td>-0.149</td>\n",
       "    </tr>\n",
       "    <tr>\n",
       "      <th>3</th>\n",
       "      <td>4</td>\n",
       "      <td>2SXPS J002539.8+640905</td>\n",
       "      <td>6.41618</td>\n",
       "      <td>64.15140</td>\n",
       "      <td>0.065960</td>\n",
       "      <td>0.396</td>\n",
       "    </tr>\n",
       "    <tr>\n",
       "      <th>4</th>\n",
       "      <td>5</td>\n",
       "      <td>2SXPS J164458.1+573816</td>\n",
       "      <td>251.24230</td>\n",
       "      <td>57.63791</td>\n",
       "      <td>0.000038</td>\n",
       "      <td>-0.159</td>\n",
       "    </tr>\n",
       "  </tbody>\n",
       "</table>\n",
       "</div>"
      ],
      "text/plain": [
       "   2SXPS_ID                 IAUName         RA      Decl  Rate_band0    HR1\n",
       "0         1  2SXPS J002517.5+640451    6.32300  64.08109    0.896800  0.570\n",
       "1         2  2SXPS J002533.4+640903    6.38929  64.15111    0.038400  0.288\n",
       "2         3  2SXPS J164421.8+573614  251.09112  57.60415    0.000999 -0.149\n",
       "3         4  2SXPS J002539.8+640905    6.41618  64.15140    0.065960  0.396\n",
       "4         5  2SXPS J164458.1+573816  251.24230  57.63791    0.000038 -0.159"
      ]
     },
     "execution_count": 48,
     "metadata": {},
     "output_type": "execute_result"
    }
   ],
   "source": [
    "df.head()"
   ]
  },
  {
   "cell_type": "code",
   "execution_count": 49,
   "metadata": {},
   "outputs": [],
   "source": [
    "ra_sw = np.array(df[\"RA\"])\n",
    "dec_sw = np.array(df[\"Decl\"])\n",
    "ctr_sw = np.array(df[\"Rate_band0\"])      # Count rate in 0.3-10 keV band\n",
    "HR_sw = np.array(df[\"HR1\"])"
   ]
  },
  {
   "cell_type": "code",
   "execution_count": 53,
   "metadata": {},
   "outputs": [
    {
     "name": "stderr",
     "output_type": "stream",
     "text": [
      "/export/work/kalypso/python3_lib/lib/python3.6/site-packages/ipykernel_launcher.py:27: RuntimeWarning: divide by zero encountered in true_divide\n",
      "/export/work/kalypso/python3_lib/lib/python3.6/site-packages/ipykernel_launcher.py:27: RuntimeWarning: invalid value encountered in true_divide\n"
     ]
    }
   ],
   "source": [
    "valuesep = 15.0 # Seperation value to consider good match. You may change this value\n",
    "fp1 = open(\"cross_match_xmm_swift.csv\",\"w\")\n",
    "fp1.write(\"   %s        %s      %s    %s   %s %s %s %s %s\\n\"%(\"RA\",\"DEC\",\"XMM-ID\",\"RA(sw)\",\\\n",
    "                                \"DEC(sw)\",\"Sig\",\"XMM-flux(0.3-10keV)\",\"sw-flux(0.3-10keV)\",\"HR\"))\n",
    "for i in range(len(obsids_heritage)):\n",
    "    #print(i)\n",
    "    # Reading the xmm source list and matching with chandra source catalogue\n",
    "    index = i\n",
    "    obsid = obsids_heritage[index][1]\n",
    "    xmm = fits.getdata('M1S001M2S002PNS003_'+str(obsid)+'_emllist_formatted.fits', 1)\n",
    "    txmm = Table(xmm)\n",
    "\n",
    "    ra_xmm = txmm['RA']                           # in degree\n",
    "    dec_xmm = txmm['DEC']                         # in degree\n",
    "    pos_err_xmm = txmm['RADEC_ERR']               # in arcsec\n",
    "    srcnumber_xmm = txmm['ML_ID_SRC']\n",
    "    pos_totalerr_xmm = txmm['TOTAL_RADEC_ERR']\n",
    " \n",
    "    # EPIC-PN count rates\n",
    "    pn_ctr = txmm['RATE_pn']                      # 0.2-12.0 keV\n",
    "    pn_ctr1 = txmm['RATE_pn_1']                   # 0.2-0.5 keV\n",
    "    pn_ctr2 = txmm['RATE_pn_2']                   # 0.5-1.0 keV\n",
    "    pn_ctr3 = txmm['RATE_pn_3']                   # 1.0-2.0 keV\n",
    "    pn_ctr4 = txmm['RATE_pn_4']                   # 2.0-4.5 keV\n",
    "    pn_ctr5 = txmm['RATE_pn_5']                   # 4.5-12.0 keV\n",
    "    pn_ctr6 = pn_ctr1+pn_ctr2+pn_ctr3+pn_ctr4     # 0.2-4.5 keV band\n",
    "    pn_HR = (pn_ctr3+pn_ctr4+pn_ctr5)/(pn_ctr1+pn_ctr2) # 1-12 keV/0.2-1 keV\n",
    "    \n",
    "    pn_ctr_err1 = txmm['RATE_ERR_pn_1']\n",
    "    pn_ctr_err2 = txmm['RATE_ERR_pn_2']\n",
    "    pn_ctr_err3 = txmm['RATE_ERR_pn_3']\n",
    "    pn_ctr_err4 = txmm['RATE_ERR_pn_4']\n",
    "    pn_ctr_err5 = txmm['RATE_ERR_pn_5']\n",
    "    pn_ctr_err6 = np.sqrt(pow(pn_ctr_err1,2.0)+pow(pn_ctr_err2,2.0)+pow(pn_ctr_err3,2.0)+pow(pn_ctr_err4,2.0))\n",
    "    #HR_err = \n",
    "    \n",
    "    # EPIC-PN count rates\n",
    "    m1_ctr = txmm['RATE_m1']                      # 0.2-12.0 keV\n",
    "    m1_ctr1 = txmm['RATE_m1_1']                   # 0.2-0.5 keV\n",
    "    m1_ctr2 = txmm['RATE_m1_2']                   # 0.5-1.0 keV\n",
    "    m1_ctr3 = txmm['RATE_m1_3']                   # 1.0-2.0 keV\n",
    "    m1_ctr4 = txmm['RATE_m1_4']                   # 2.0-4.5 keV\n",
    "    m1_ctr5 = txmm['RATE_m1_5']                   # 4.5-12.0 keV\n",
    "    m1_ctr6 = pn_ctr1+pn_ctr2+pn_ctr3+pn_ctr4     # 0.2-4.5 keV band\n",
    "    m1_HR = (pn_ctr3+pn_ctr4+pn_ctr5)/(pn_ctr1+pn_ctr2) # 1-12 keV/0.2-1 keV\n",
    "    \n",
    "    \n",
    "    # EPIC-PN flux 0.5-7 keV band\n",
    "    pn_flux = (pn_ctr2+pn_ctr3+pn_ctr4)*pn_ctr_to_flux\n",
    "    \n",
    "    # PN count rate in full band 0.2-12 keV\n",
    "    pn_ctr = txmm['RATE_pn']\n",
    "    pn_ctr_err = txmm['RATE_ERR_pn']\n",
    "    \n",
    "    \n",
    "    # Change the coordinate RA and DEC into a zip\n",
    "    coo_xmm = SkyCoord(ra_xmm*u.degree, dec_xmm*u.degree)\n",
    "    coo_sw = SkyCoord(ra_sw*u.degree, dec_sw*u.degree)\n",
    "    \n",
    "    # Cross match between XMM and erosita source catalogue\n",
    "    idx1, d2d1, d3d1 = coo_xmm.match_to_catalog_sky(coo_sw)\n",
    "    \n",
    "    # Define max sep in arcsec to consider good match\n",
    "    max_sep = valuesep * u.arcsec\n",
    "    # Apply mask true or false according to seperation limit \n",
    "    sep_cons1 = d2d1 < max_sep\n",
    "    \n",
    "    coo_xmm_matches1 = coo_xmm[sep_cons1]\n",
    "    \n",
    "    ra_xmm1 = ra_xmm[sep_cons1]\n",
    "    dec_xmm1 = dec_xmm[sep_cons1]\n",
    "    pn_flux1 = pn_ctr[sep_cons1]*pn_ctr_to_flux\n",
    "    ra_sw1 = ra_sw[idx1[sep_cons1]]\n",
    "    dec_sw1 = dec_sw[idx1[sep_cons1]]\n",
    "    sw_flux1 = ctr_sw[idx1[sep_cons1]]*sw_ctr_to_flux\n",
    "    HR1 = HR[sep_cons1]\n",
    "    \n",
    "    for k in range(len(ra_xmm1)):\n",
    "        fp1.write(\"%f %f %d %f %f %g %g %g\\n\"%(ra_xmm1[k],dec_xmm1[k],int(obsid),ra_sw1[k],dec_sw1[k],\\\n",
    "                                               pn_flux1[k],sw_flux1[k],HR1[k]))\n",
    "        \n",
    "fp1.close()"
   ]
  },
  {
   "cell_type": "code",
   "execution_count": null,
   "metadata": {},
   "outputs": [],
   "source": []
  }
 ],
 "metadata": {
  "kernelspec": {
   "display_name": "Python 3",
   "language": "python",
   "name": "python3"
  },
  "language_info": {
   "codemirror_mode": {
    "name": "ipython",
    "version": 3
   },
   "file_extension": ".py",
   "mimetype": "text/x-python",
   "name": "python",
   "nbconvert_exporter": "python",
   "pygments_lexer": "ipython3",
   "version": "3.6.9"
  }
 },
 "nbformat": 4,
 "nbformat_minor": 4
}
