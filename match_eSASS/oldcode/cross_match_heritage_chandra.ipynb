{
 "cells": [
  {
   "cell_type": "code",
   "execution_count": 1,
   "metadata": {},
   "outputs": [],
   "source": [
    "# Point source matching script between heritage programme and Chandra source catalogue2\n",
    "# The better PSF of Chandra will enable to accuretly determine the poistion of the source which is necessary for\n",
    "# finding multiwave length counterpart\n",
    "# This script creats a source list (cross_match_xmm_chandra.csv) of matched object between XMM and Chandra \n",
    "# observations\n",
    "# AUTHOR : Samaresh Mondal (smondal@camk.edu.pl)\n",
    "# DATE   : 2021 Sep 06"
   ]
  },
  {
   "cell_type": "code",
   "execution_count": 2,
   "metadata": {},
   "outputs": [],
   "source": [
    "import numpy as np\n",
    "import math\n",
    "import astropy.units as u\n",
    "from astropy.coordinates import SkyCoord\n",
    "from astropy.io import fits\n",
    "from astropy.table import Table\n",
    "from urllib.request import urlopen\n",
    "from urllib.parse import urlencode\n",
    "import astropy\n",
    "import pyvo as vo"
   ]
  },
  {
   "cell_type": "code",
   "execution_count": 3,
   "metadata": {},
   "outputs": [],
   "source": [
    "cone1 = vo.dal.SCSService('http://cda.cfa.harvard.edu/csc1scs/coneSearch')\n",
    "cone2 = vo.dal.SCSService('http://cda.cfa.harvard.edu/csc2scs/coneSearch')\n",
    "maxrad = 15.0 * u.arcsec        # search radius 15 arcsec"
   ]
  },
  {
   "cell_type": "code",
   "execution_count": 4,
   "metadata": {},
   "outputs": [],
   "source": [
    "# XMM EPIC-PN count rate flux conversion from 0.5-4.5 keV count rate to 0.5-7.0 keV flux\n",
    "# using nH=1e22, powelaw index=2.0 and normaization=2.212E-03\n",
    "pn_ctr_to_flux = 4.905e-12\n",
    "pn_ctr_to_flux1 = 5.111E-12  # this in 0.1 -10 keV band from 0.2-12 keV\n",
    "m1_ctr_to_flux = 3.738E-12\n",
    "m2_ctr_to_flux = 3.738E-12"
   ]
  },
  {
   "cell_type": "code",
   "execution_count": 5,
   "metadata": {},
   "outputs": [],
   "source": [
    "# Observation ids of heritage pointings\n",
    "obsids_heritage=[['1','0886010101'],['2','0886010401'],['3','0886010501'],\n",
    "                 ['4','0886010601'],['5','0886010301'],['6','0886010701'],\n",
    "                 ['7','0886010801'],['8','0886010201'],['9','0886010901'],\n",
    "                 ['10','0886011001'],['11','0886011101'],['12','0886011201'],\n",
    "                 ['13','0886020301'],['14','0886020101'],['15','0886020301'],\n",
    "                 ['16','0886011301']]"
   ]
  },
  {
   "cell_type": "code",
   "execution_count": 9,
   "metadata": {},
   "outputs": [
    {
     "name": "stderr",
     "output_type": "stream",
     "text": [
      "/export/work/kalypso/python3_lib/lib/python3.6/site-packages/ipykernel_launcher.py:25: RuntimeWarning: divide by zero encountered in true_divide\n",
      "/export/work/kalypso/python3_lib/lib/python3.6/site-packages/ipykernel_launcher.py:25: RuntimeWarning: divide by zero encountered in true_divide\n",
      "/export/work/kalypso/python3_lib/lib/python3.6/site-packages/ipykernel_launcher.py:25: RuntimeWarning: divide by zero encountered in true_divide\n",
      "/export/work/kalypso/python3_lib/lib/python3.6/site-packages/ipykernel_launcher.py:57: UserWarning: Warning: converting a masked element to nan.\n",
      "/export/work/kalypso/python3_lib/lib/python3.6/site-packages/ipykernel_launcher.py:25: RuntimeWarning: divide by zero encountered in true_divide\n",
      "/export/work/kalypso/python3_lib/lib/python3.6/site-packages/ipykernel_launcher.py:25: RuntimeWarning: divide by zero encountered in true_divide\n",
      "/export/work/kalypso/python3_lib/lib/python3.6/site-packages/ipykernel_launcher.py:25: RuntimeWarning: divide by zero encountered in true_divide\n",
      "/export/work/kalypso/python3_lib/lib/python3.6/site-packages/ipykernel_launcher.py:57: UserWarning: Warning: converting a masked element to nan.\n",
      "/export/work/kalypso/python3_lib/lib/python3.6/site-packages/ipykernel_launcher.py:25: RuntimeWarning: divide by zero encountered in true_divide\n",
      "/export/work/kalypso/python3_lib/lib/python3.6/site-packages/ipykernel_launcher.py:25: RuntimeWarning: divide by zero encountered in true_divide\n",
      "/export/work/kalypso/python3_lib/lib/python3.6/site-packages/ipykernel_launcher.py:57: UserWarning: Warning: converting a masked element to nan.\n",
      "/export/work/kalypso/python3_lib/lib/python3.6/site-packages/ipykernel_launcher.py:61: UserWarning: Warning: converting a masked element to nan.\n",
      "/export/work/kalypso/python3_lib/lib/python3.6/site-packages/ipykernel_launcher.py:25: RuntimeWarning: divide by zero encountered in true_divide\n",
      "/export/work/kalypso/python3_lib/lib/python3.6/site-packages/ipykernel_launcher.py:61: UserWarning: Warning: converting a masked element to nan.\n",
      "/export/work/kalypso/python3_lib/lib/python3.6/site-packages/ipykernel_launcher.py:25: RuntimeWarning: divide by zero encountered in true_divide\n",
      "/export/work/kalypso/python3_lib/lib/python3.6/site-packages/ipykernel_launcher.py:25: RuntimeWarning: invalid value encountered in true_divide\n",
      "/export/work/kalypso/python3_lib/lib/python3.6/site-packages/ipykernel_launcher.py:25: RuntimeWarning: divide by zero encountered in true_divide\n",
      "/export/work/kalypso/python3_lib/lib/python3.6/site-packages/ipykernel_launcher.py:61: UserWarning: Warning: converting a masked element to nan.\n",
      "/export/work/kalypso/python3_lib/lib/python3.6/site-packages/ipykernel_launcher.py:25: RuntimeWarning: divide by zero encountered in true_divide\n",
      "/export/work/kalypso/python3_lib/lib/python3.6/site-packages/ipykernel_launcher.py:25: RuntimeWarning: invalid value encountered in true_divide\n",
      "/export/work/kalypso/python3_lib/lib/python3.6/site-packages/ipykernel_launcher.py:25: RuntimeWarning: divide by zero encountered in true_divide\n",
      "/export/work/kalypso/python3_lib/lib/python3.6/site-packages/ipykernel_launcher.py:25: RuntimeWarning: invalid value encountered in true_divide\n",
      "/export/work/kalypso/python3_lib/lib/python3.6/site-packages/ipykernel_launcher.py:25: RuntimeWarning: divide by zero encountered in true_divide\n",
      "/export/work/kalypso/python3_lib/lib/python3.6/site-packages/ipykernel_launcher.py:25: RuntimeWarning: divide by zero encountered in true_divide\n",
      "/export/work/kalypso/python3_lib/lib/python3.6/site-packages/ipykernel_launcher.py:25: RuntimeWarning: invalid value encountered in true_divide\n",
      "/export/work/kalypso/python3_lib/lib/python3.6/site-packages/ipykernel_launcher.py:25: RuntimeWarning: divide by zero encountered in true_divide\n",
      "/export/work/kalypso/python3_lib/lib/python3.6/site-packages/ipykernel_launcher.py:61: UserWarning: Warning: converting a masked element to nan.\n"
     ]
    }
   ],
   "source": [
    "fp1 = open(\"cross_match_xmm_chandra.csv\",\"w\")\n",
    "fp1.write(\"   %s        %s      %s    %s    %s %s %s %s %s %s\\n\"%(\"RA\",\"DEC\",\"XMM-ID\",\"Name\",\"RA(Ch)\",\\\n",
    "                                \"DEC(Ch)\",\"Sig\",\"XMM-flux(0.2-5keV)\",\"Ch-flux(0.5-7keV)\",\"HR\"))\n",
    "for i in range(len(obsids_heritage)):\n",
    "    print(i)\n",
    "    # Reading the xmm source list and matching with chandra source catalogue\n",
    "    index = i\n",
    "    obsid = obsids_heritage[index][1]\n",
    "    xmm = fits.getdata('M1S001M2S002PNS003_'+str(obsid)+'_emllist_formatted.fits', 1)\n",
    "    txmm = Table(xmm)\n",
    "\n",
    "    ra_xmm = txmm['RA']                           # in degree\n",
    "    dec_xmm = txmm['DEC']                         # in degree\n",
    "    pos_err_xmm = txmm['RADEC_ERR']               # in arcsec\n",
    "    srcnumber_xmm = txmm['ML_ID_SRC']\n",
    "    pos_totalerr_xmm = txmm['TOTAL_RADEC_ERR']\n",
    " \n",
    "    # EPIC-PN count rates\n",
    "    pn_ctr = txmm['RATE_pn']                      # 0.2-12.0 keV\n",
    "    pn_ctr1 = txmm['RATE_pn_1']                   # 0.2-0.5 keV\n",
    "    pn_ctr2 = txmm['RATE_pn_2']                   # 0.5-1.0 keV\n",
    "    pn_ctr3 = txmm['RATE_pn_3']                   # 1.0-2.0 keV\n",
    "    pn_ctr4 = txmm['RATE_pn_4']                   # 2.0-4.5 keV\n",
    "    pn_ctr5 = txmm['RATE_pn_5']                   # 4.5-12.0 keV\n",
    "    pn_ctr6 = pn_ctr1+pn_ctr2+pn_ctr3+pn_ctr4     # 0.2-4.5 keV band\n",
    "    HR = (pn_ctr3+pn_ctr4+pn_ctr5)/(pn_ctr1+pn_ctr2) # 1-12 keV/0.2-1 keV\n",
    "    \n",
    "    pn_ctr_err1 = txmm['RATE_ERR_pn_1']\n",
    "    pn_ctr_err2 = txmm['RATE_ERR_pn_2']\n",
    "    pn_ctr_err3 = txmm['RATE_ERR_pn_3']\n",
    "    pn_ctr_err4 = txmm['RATE_ERR_pn_4']\n",
    "    pn_ctr_err5 = txmm['RATE_ERR_pn_5']\n",
    "    pn_ctr_err6 = np.sqrt(pow(pn_ctr_err1,2.0)+pow(pn_ctr_err2,2.0)+pow(pn_ctr_err3,2.0)+pow(pn_ctr_err4,2.0))\n",
    "    #HR_err = \n",
    "    \n",
    "    # EPIC-PN flux 0.5-7 keV band\n",
    "    pn_flux = (pn_ctr2+pn_ctr3+pn_ctr4)*pn_ctr_to_flux\n",
    "    \n",
    "    # PN count rate in full band 0.2-12 keV\n",
    "    pn_ctr = txmm['RATE_pn']\n",
    "    pn_ctr_err = txmm['RATE_ERR_pn']\n",
    "    \n",
    "    \n",
    "    # Change the coordinate RA and DEC into a zip\n",
    "    coo_xmm = SkyCoord(ra_xmm*u.degree, dec_xmm*u.degree)\n",
    "    \n",
    "    for j in range(len(coo_xmm)):\n",
    "        results = cone2.search(pos=coo_xmm[j], radius=maxrad, verbosity=2)  \n",
    "        # verbosity: column informations 1=minimal\n",
    "        if(len(results)!=0):\n",
    "            name = results[\"name\"][0]\n",
    "            ra_ch = results[\"ra\"][0]\n",
    "            dec_ch = results[\"dec\"][0]\n",
    "            sig = results[\"significance\"][0]           # Detectation significence\n",
    "            #LH = results[\"likelihood\"][0]             # Dtactation likelihood\n",
    "            #LH_class = results[\"likelihood_class\"][0] # Detectation true, false or marginal\n",
    "            flux = results[\"flux_aper_b\"][0]           # Broad band 0.5-7 keV\n",
    "            pn_flux1 = pn_flux[j]                      # 0.5-7.0 keV\n",
    "            if(math.isnan(flux)==True or flux==0.0):\n",
    "                flux = results[\"flux_aper_w\"][0]        # Broad band 0.1-10 keV, the source is detected in HRC\n",
    "                pn_flux1 = pn_ctr[j]*pn_ctr_to_flux1    # 0.1-10 keV band\n",
    "            fp1.write(\"%f %f %d %s %f %f %f %g %g %g\\n\"%(ra_xmm[j],dec_xmm[j],int(obsid),name,ra_ch,\\\n",
    "                                                         dec_ch,sig,pn_flux1,flux,HR[j]))\n",
    "    \n",
    "fp1.close()"
   ]
  }
 ],
 "metadata": {
  "kernelspec": {
   "display_name": "Python 3",
   "language": "python",
   "name": "python3"
  },
  "language_info": {
   "codemirror_mode": {
    "name": "ipython",
    "version": 3
   },
   "file_extension": ".py",
   "mimetype": "text/x-python",
   "name": "python",
   "nbconvert_exporter": "python",
   "pygments_lexer": "ipython3",
   "version": "3.6.9"
  }
 },
 "nbformat": 4,
 "nbformat_minor": 4
}
