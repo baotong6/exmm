{
 "cells": [
  {
   "cell_type": "code",
   "execution_count": 12,
   "metadata": {},
   "outputs": [],
   "source": [
    "import numpy as np\n",
    "import matplotlib.pyplot as plt\n",
    "from astropy.io import fits\n",
    "import sys\n",
    "import os\n",
    "import string\n",
    "from scipy.interpolate import lagrange\n",
    "from scipy import interpolate\n",
    "from scipy.optimize import curve_fit\n",
    "import pandas as pd\n",
    "import astropy.units as u\n",
    "import scipy\n",
    "from astropy.coordinates import SkyCoord\n",
    "import warnings"
   ]
  },
  {
   "cell_type": "code",
   "execution_count": 17,
   "metadata": {},
   "outputs": [],
   "source": [
    "file_path = '/Users/baotong/data_GalDisc/data/SNRlist.xlsx'  # 替换为你的文件路径\n",
    "df = pd.read_excel(file_path)\n",
    "l = df['l'].values  # 经度\n",
    "b = df['b'].values  # 纬度\n",
    "# 设置半径为 5 角分\n",
    "radius = 10 * u.arcmin  # 角分单位\n",
    "l=l[3:];b=b[3:]"
   ]
  },
  {
   "cell_type": "code",
   "execution_count": 20,
   "metadata": {},
   "outputs": [
    {
     "name": "stdout",
     "output_type": "stream",
     "text": [
      "DS9 region file has been written as 'output.reg'.\n"
     ]
    }
   ],
   "source": [
    "with open('/Users/baotong/data_GalDisc/data/mosaic_latest/SNRlist_galactic.reg', 'w') as f:\n",
    "    # 添加头部注释\n",
    "    f.write(\"# Region file format: DS9\\n\")\n",
    "    f.write(\"galactic\\n\")\n",
    "\n",
    "    # 遍历所有经度和纬度\n",
    "    for lon, lat in zip(l, b):\n",
    "        # 创建 SkyCoord 对象\n",
    "        coord = SkyCoord(lon, lat, unit=(u.deg, u.deg), frame='galactic')\n",
    "        # 获取经纬度对应的 RA, Dec (ICRS 坐标)\n",
    "        ra_dec = coord.icrs\n",
    "        # 将坐标转换为 DS9 region 文件格式 (RA, Dec 坐标)\n",
    "        f.write(f\"circle({lon:.6f}, {lat:.6f}, {radius.to(u.deg).value:.6f})\\n\")\n",
    "        # f.write(f\"circle({ra_dec.ra.deg:.6f}, {ra_dec.dec.deg:.6f}, {radius.to(u.deg).value:.6f})\\n\")\n",
    "\n",
    "print(\"DS9 region file has been written as 'output.reg'.\")"
   ]
  },
  {
   "cell_type": "code",
   "execution_count": null,
   "metadata": {},
   "outputs": [],
   "source": []
  },
  {
   "cell_type": "code",
   "execution_count": null,
   "metadata": {},
   "outputs": [],
   "source": []
  }
 ],
 "metadata": {
  "kernelspec": {
   "display_name": "base",
   "language": "python",
   "name": "python3"
  },
  "language_info": {
   "codemirror_mode": {
    "name": "ipython",
    "version": 3
   },
   "file_extension": ".py",
   "mimetype": "text/x-python",
   "name": "python",
   "nbconvert_exporter": "python",
   "pygments_lexer": "ipython3",
   "version": "3.8.5"
  }
 },
 "nbformat": 4,
 "nbformat_minor": 2
}
